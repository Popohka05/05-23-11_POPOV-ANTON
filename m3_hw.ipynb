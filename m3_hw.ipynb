{
 "cells": [
  {
   "cell_type": "markdown",
   "metadata": {},
   "source": [
    "### Задачи по теме **\"Встроенные функции\"**\n",
    "\n",
    "#### Средняя задача 1  \n",
    "Напишите функцию `check_any_true`, которая принимает список списков и возвращает `True`, если хотя бы в одном из вложенных списков все элементы равны `True`. Используйте функции `any()` и `all()`.  \n",
    "**Пример:**  \n",
    "```python\n",
    "print(check_any_true([[True, True], [False, False], [True, False]]))  # True\n",
    "print(check_any_true([[False, False], [False, False]]))               # False\n",
    "```\n",
    "\n"
   ]
  },
  {
   "cell_type": "code",
   "execution_count": 17,
   "metadata": {},
   "outputs": [
    {
     "name": "stdout",
     "output_type": "stream",
     "text": [
      "True\n",
      "False\n"
     ]
    }
   ],
   "source": [
    "def check_any_true(lst):\n",
    "    return any(all(sublist) for sublist in lst)\n",
    "print(check_any_true([[True, True], [False, False], [True, False]]))  \n",
    "print(check_any_true([[False, False], [False, False]]))"
   ]
  },
  {
   "cell_type": "markdown",
   "metadata": {},
   "source": [
    "\n",
    "\n",
    "#### Средняя задача 2  \n",
    "Создайте функцию `validate_types`, которая принимает список объектов и список типов данных. Функция должна вернуть `True`, если все объекты в списке соответствуют одному из указанных типов, иначе `False`. Используйте `isinstance()`.  \n",
    "**Пример:**  \n",
    "```python\n",
    "print(validate_types([1, \"hello\", 3.14], (int, str, float)))  # True\n",
    "print(validate_types([1, \"hello\", [1, 2]], (int, str)))       # False\n",
    "```\n",
    "\n"
   ]
  },
  {
   "cell_type": "code",
   "execution_count": 18,
   "metadata": {},
   "outputs": [
    {
     "name": "stdout",
     "output_type": "stream",
     "text": [
      "True\n",
      "False\n"
     ]
    }
   ],
   "source": [
    "def validate_types(objects, types):\n",
    "    return all(isinstance(obj, types) for obj in objects)\n",
    "print(validate_types([1, \"hello\", 3.14], (int, str, float)))  \n",
    "print(validate_types([1, \"hello\", [1, 2]], (int, str)))"
   ]
  },
  {
   "cell_type": "markdown",
   "metadata": {},
   "source": [
    "\n",
    "\n",
    "#### Сложная задача 3  \n",
    "Реализуйте функцию `compare_objects`, которая принимает два объекта и проверяет их на идентичность с помощью `is` и на равенство содержимого с помощью `==`. Верните строку с результатами проверки.  \n",
    "**Пример:**  \n",
    "```python\n",
    "a = [1, 2, 3]\n",
    "b = [1, 2, 3]\n",
    "c = a\n",
    "print(compare_objects(a, b))  # \"Содержимое одинаково, но объекты разные\"\n",
    "print(compare_objects(a, c))  # \"Объекты идентичны\"\n",
    "```\n",
    "\n"
   ]
  },
  {
   "cell_type": "code",
   "execution_count": 19,
   "metadata": {},
   "outputs": [
    {
     "name": "stdout",
     "output_type": "stream",
     "text": [
      "Содержимое одинаково, но объекты разные\n",
      "Объекты идентичны\n"
     ]
    }
   ],
   "source": [
    "def compare_objects(a, b):\n",
    "    if a is b:\n",
    "        return \"Объекты идентичны\"\n",
    "    elif a == b:\n",
    "        return \"Содержимое одинаково, но объекты разные\"\n",
    "    else:\n",
    "        return \"Объекты разные\"\n",
    "a = [1, 2, 3]\n",
    "b = [1, 2, 3]\n",
    "c = a\n",
    "print(compare_objects(a, b)) \n",
    "print(compare_objects(a, c))"
   ]
  },
  {
   "cell_type": "markdown",
   "metadata": {},
   "source": [
    "\n",
    "\n",
    "#### Сложная задача 4  \n",
    "Напишите функцию `get_object_info`, которая принимает объект и возвращает список всех его атрибутов и методов с помощью `dir()`. Отфильтруйте только те атрибуты, которые не начинаются с \"__\".  \n",
    "**Пример:**  \n",
    "```python\n",
    "print(get_object_info([]))  # ['append', 'clear', 'copy', ...]\n",
    "```\n",
    "\n"
   ]
  },
  {
   "cell_type": "code",
   "execution_count": 20,
   "metadata": {},
   "outputs": [
    {
     "name": "stdout",
     "output_type": "stream",
     "text": [
      "['append', 'clear', 'copy', 'count', 'extend', 'index', 'insert', 'pop', 'remove', 'reverse', 'sort']\n"
     ]
    }
   ],
   "source": [
    "def get_object_info(obj):\n",
    "    return [attr for attr in dir(obj) if not attr.startswith('__')]\n",
    "print(get_object_info([]))"
   ]
  },
  {
   "cell_type": "markdown",
   "metadata": {},
   "source": [
    "\n",
    "\n",
    "#### Сложная задача 5  \n",
    "Создайте функцию `check_all_true`, которая принимает список списков и возвращает `True`, если во всех вложенных списках хотя бы один элемент равен `True`. Используйте `any()` и `all()`.  \n",
    "**Пример:**  \n",
    "```python\n",
    "print(check_all_true([[True, False], [False, False], [True, True]]))  # True\n",
    "print(check_all_true([[False, False], [False, False]]))               # False\n",
    "```\n",
    "\n"
   ]
  },
  {
   "cell_type": "code",
   "execution_count": 21,
   "metadata": {},
   "outputs": [
    {
     "name": "stdout",
     "output_type": "stream",
     "text": [
      "True\n",
      "False\n"
     ]
    }
   ],
   "source": [
    "def check_any_true(lst):\n",
    "    return any(any(sublist) for sublist in lst)\n",
    "\n",
    "print(check_any_true([[True, False], [False, False], [True, True]]))  \n",
    "print(check_any_true([[False, False], [False, False]])) "
   ]
  },
  {
   "cell_type": "markdown",
   "metadata": {},
   "source": [
    "\n",
    "\n",
    "### Задачи по теме **\"Рекурсии\"**\n",
    "\n",
    "#### Средняя задача 1  \n",
    "Напишите рекурсивную функцию `power`, которая принимает два числа: `base` и `exponent`, и возвращает результат возведения `base` в степень `exponent`.  \n",
    "**Пример:**  \n",
    "```python\n",
    "print(power(2, 3))  # 8\n",
    "print(power(5, 0))  # 1\n",
    "```\n",
    "\n"
   ]
  },
  {
   "cell_type": "code",
   "execution_count": 22,
   "metadata": {},
   "outputs": [
    {
     "name": "stdout",
     "output_type": "stream",
     "text": [
      "8\n",
      "1\n"
     ]
    }
   ],
   "source": [
    "def power(base, exponent):\n",
    "    if exponent == 0:\n",
    "        return 1\n",
    "    return base * power(base, exponent - 1)\n",
    "print(power(2, 3)) \n",
    "print(power(5, 0))"
   ]
  },
  {
   "cell_type": "markdown",
   "metadata": {},
   "source": [
    "\n",
    "\n",
    "#### Средняя задача 2  \n",
    "Реализуйте рекурсивную функцию `count_down`, которая принимает число `n` и выводит числа от `n` до 0.  \n",
    "**Пример:**  \n",
    "```python\n",
    "count_down(5)  # 5, 4, 3, 2, 1, 0\n",
    "```\n",
    "\n"
   ]
  },
  {
   "cell_type": "code",
   "execution_count": 23,
   "metadata": {},
   "outputs": [
    {
     "name": "stdout",
     "output_type": "stream",
     "text": [
      "10\n",
      "9\n",
      "8\n",
      "7\n",
      "6\n",
      "5\n",
      "4\n",
      "3\n",
      "2\n",
      "1\n",
      "0\n"
     ]
    }
   ],
   "source": [
    "def count_down(n):\n",
    "    if n < 0:\n",
    "        return\n",
    "    print(n)\n",
    "    count_down(n - 1)\n",
    "count_down(10)"
   ]
  },
  {
   "cell_type": "markdown",
   "metadata": {},
   "source": [
    "\n",
    "\n",
    "#### Сложная задача 3  \n",
    "Напишите рекурсивную функцию `find_max`, которая принимает список чисел и возвращает максимальное значение в списке.  \n",
    "**Пример:**  \n",
    "```python\n",
    "print(find_max([1, 5, 3, 9, 2]))  # 9\n",
    "```\n",
    "\n"
   ]
  },
  {
   "cell_type": "code",
   "execution_count": 24,
   "metadata": {},
   "outputs": [
    {
     "name": "stdout",
     "output_type": "stream",
     "text": [
      "9\n"
     ]
    }
   ],
   "source": [
    "def find_max(lst):\n",
    "    if len(lst) == 1:\n",
    "        return lst[0]\n",
    "    return max(lst[0], find_max(lst[1:]))\n",
    "print(find_max([1, 5, 3, 9, 2]))"
   ]
  },
  {
   "cell_type": "markdown",
   "metadata": {},
   "source": [
    "\n",
    "\n",
    "#### Сложная задача 4  \n",
    "Реализуйте рекурсивную функцию `reverse_string`, которая принимает строку и возвращает её в обратном порядке.  \n",
    "**Пример:**  \n",
    "```python\n",
    "print(reverse_string(\"hello\"))  # \"olleh\"\n",
    "```\n",
    "\n"
   ]
  },
  {
   "cell_type": "code",
   "execution_count": 25,
   "metadata": {},
   "outputs": [
    {
     "name": "stdout",
     "output_type": "stream",
     "text": [
      "olleh\n"
     ]
    }
   ],
   "source": [
    "def reverse_string(s):\n",
    "    if len(s) == 0:\n",
    "        return s\n",
    "    return reverse_string(s[1:]) + s[0]\n",
    "print(reverse_string(\"hello\"))"
   ]
  },
  {
   "cell_type": "markdown",
   "metadata": {},
   "source": [
    "\n",
    "\n",
    "#### Сложная задача 5  \n",
    "Создайте рекурсивную функцию `flatten_list`, которая принимает вложенный список и возвращает одномерный список.  \n",
    "**Пример:**  \n",
    "```python\n",
    "print(flatten_list([1, [2, [3, 4], 5]))  # [1, 2, 3, 4, 5]\n",
    "```\n",
    "\n"
   ]
  },
  {
   "cell_type": "code",
   "execution_count": 10,
   "metadata": {},
   "outputs": [
    {
     "name": "stdout",
     "output_type": "stream",
     "text": [
      "[1, 2, 3, 4, 5]\n"
     ]
    }
   ],
   "source": [
    "def flatten_list(nested):\n",
    "    if not isinstance(nested, list):\n",
    "        return [nested]\n",
    "    flat = []\n",
    "    for item in nested:\n",
    "        flat.extend(flatten_list(item))\n",
    "    return flat\n",
    "print(flatten_list([1, [2, [3, 4], 5]]))"
   ]
  },
  {
   "cell_type": "markdown",
   "metadata": {},
   "source": [
    "\n",
    "\n",
    "### Задачи по теме **\"Области видимости\"**\n",
    "\n",
    "#### Средняя задача 1  \n",
    "Напишите функцию `outer`, которая содержит переменную `x = 10`, и вложенную функцию `inner`, которая изменяет `x` на `20` с помощью `nonlocal`. Верните значение `x` после вызова `inner`.  \n",
    "**Пример:**  \n",
    "```python\n",
    "print(outer())  # 20\n",
    "```\n",
    "\n"
   ]
  },
  {
   "cell_type": "code",
   "execution_count": 26,
   "metadata": {},
   "outputs": [
    {
     "name": "stdout",
     "output_type": "stream",
     "text": [
      "20\n"
     ]
    }
   ],
   "source": [
    "def outer():\n",
    "    x = 10\n",
    "    def inner():\n",
    "        nonlocal x\n",
    "        x = 20\n",
    "    inner()\n",
    "    return x\n",
    "print(outer())"
   ]
  },
  {
   "cell_type": "markdown",
   "metadata": {},
   "source": [
    "\n",
    "\n",
    "#### Средняя задача 2  \n",
    "Создайте функцию `global_counter`, которая использует глобальную переменную `counter` и увеличивает её значение на 1 при каждом вызове.  \n",
    "**Пример:**  \n",
    "```python\n",
    "global_counter()\n",
    "global_counter()\n",
    "print(counter)  # 2\n",
    "```\n",
    "\n"
   ]
  },
  {
   "cell_type": "code",
   "execution_count": 12,
   "metadata": {},
   "outputs": [
    {
     "name": "stdout",
     "output_type": "stream",
     "text": [
      "1\n"
     ]
    }
   ],
   "source": [
    "counter =0\n",
    "\n",
    "def global_counter():\n",
    "    global counter\n",
    "    counter += 1\n",
    "global_counter()\n",
    "\n",
    "print(counter) "
   ]
  },
  {
   "cell_type": "markdown",
   "metadata": {},
   "source": [
    "\n",
    "\n",
    "#### Сложная задача 3  \n",
    "Реализуйте функцию `nested_scopes`, которая содержит три уровня вложенности: глобальную, локальную и объемлющую области видимости. В каждой области создайте переменную с именем `x` и выведите их значения.  \n",
    "**Пример:**  \n",
    "```python\n",
    "nested_scopes()  # Глобальная x: 10, Локальная x: 20, Объемлящая x: 30\n",
    "```\n",
    "\n"
   ]
  },
  {
   "cell_type": "code",
   "execution_count": 29,
   "metadata": {},
   "outputs": [
    {
     "name": "stdout",
     "output_type": "stream",
     "text": [
      "Глобальная x: 10, Локальная x: 20, Объемлящая x: 20\n",
      "Объемлящая x: 30\n",
      "Глобальная x: 10\n"
     ]
    }
   ],
   "source": [
    "x = 10\n",
    "\n",
    "def nested_scopes():\n",
    "    x = 30\n",
    "    def inner():\n",
    "        x = 20\n",
    "        print(f\"Глобальная x: {globals()['x']}, Локальная x: {x}, Объемлящая x: {locals().get('x', None)}\")\n",
    "    inner()\n",
    "    print(\"Объемлящая x:\", x)\n",
    "    print(\"Глобальная x:\", globals()['x'])\n",
    "\n",
    "nested_scopes()"
   ]
  },
  {
   "cell_type": "markdown",
   "metadata": {},
   "source": [
    "\n",
    "\n",
    "#### Сложная задача 4  \n",
    "Напишите функцию `modify_global`, которая принимает список и добавляет в него элемент, используя глобальную переменную.  \n",
    "**Пример:**  \n",
    "```python\n",
    "my_list = [1, 2, 3]\n",
    "modify_global(4)\n",
    "print(my_list)  # [1, 2, 3, 4]\n",
    "```\n",
    "\n"
   ]
  },
  {
   "cell_type": "code",
   "execution_count": 14,
   "metadata": {},
   "outputs": [
    {
     "name": "stdout",
     "output_type": "stream",
     "text": [
      "[1, 2, 3, 4]\n"
     ]
    }
   ],
   "source": [
    "my_list = [1, 2, 3]\n",
    "\n",
    "def modify_global(item):\n",
    "    global my_list\n",
    "    my_list.append(item)\n",
    "modify_global(4)\n",
    "print(my_list)"
   ]
  },
  {
   "cell_type": "markdown",
   "metadata": {},
   "source": [
    "\n",
    "\n",
    "#### Сложная задача 5  \n",
    "Создайте функцию `scope_test`, которая использует `locals()` и `globals()` для вывода всех переменных в локальной и глобальной областях видимости.  \n",
    "**Пример:**  \n",
    "```python\n",
    "scope_test()  # Вывод локальных и глобальных переменных\n",
    "```\n",
    "\n"
   ]
  },
  {
   "cell_type": "code",
   "execution_count": 27,
   "metadata": {},
   "outputs": [
    {
     "name": "stdout",
     "output_type": "stream",
     "text": [
      "Локальные переменные: {'local_var': 'test'}\n",
      "Глобальные переменные: {'__name__': '__main__', '__doc__': 'Automatically created module for IPython interactive environment', '__package__': None, '__loader__': None, '__spec__': None, '__builtin__': <module 'builtins' (built-in)>, '__builtins__': <module 'builtins' (built-in)>, '_ih': ['', 'def check_any_true(lst):\\n    return any(all(sublist) for sublist in lst)\\nprint(check_any_true([[True, True], [False, False], [True, False]]))  \\nprint(check_any_true([[False, False], [False, False]]))', 'def validate_types(objects, types):\\n    return all(isinstance(obj, types) for obj in objects)\\nprint(validate_types([1, \"hello\", 3.14], (int, str, float)))  \\nprint(validate_types([1, \"hello\", [1, 2]], (int, str)))', 'def compare_objects(a, b):\\n    if a is b:\\n        return \"Объекты идентичны\"\\n    elif a == b:\\n        return \"Содержимое одинаково, но объекты разные\"\\n    else:\\n        return \"Объекты разные\"\\na = [1, 2, 3]\\nb = [1, 2, 3]\\nc = a\\nprint(compare_objects(a, b)) \\nprint(compare_objects(a, c))', \"def get_object_info(obj):\\n    return [attr for attr in dir(obj) if not attr.startswith('__')]\\nprint(get_object_info([]))\", 'def check_any_true(lst):\\n    return any(any(sublist) for sublist in lst)\\n\\nprint(check_any_true([[True, False], [False, False], [True, True]]))  \\nprint(check_any_true([[False, False], [False, False]])) ', 'def power(base, exponent):\\n    if exponent == 0:\\n        return 1\\n    return base * power(base, exponent - 1)\\nprint(power(2, 3)) \\nprint(power(5, 0))', 'def count_down(n):\\n    if n < 0:\\n        return\\n    print(n)\\n    count_down(n - 1)\\ncount_down(10)', 'def find_max(lst):\\n    if len(lst) == 1:\\n        return lst[0]\\n    return max(lst[0], find_max(lst[1:]))\\nprint(find_max([1, 5, 3, 9, 2]))', 'def reverse_string(s):\\n    if len(s) == 0:\\n        return s\\n    return reverse_string(s[1:]) + s[0]\\nprint(reverse_string(\"hello\"))', 'def flatten_list(nested):\\n    if not isinstance(nested, list):\\n        return [nested]\\n    flat = []\\n    for item in nested:\\n        flat.extend(flatten_list(item))\\n    return flat\\nprint(flatten_list([1, [2, [3, 4], 5]]))', 'def outer():\\n    x = 10\\n    def inner():\\n        nonlocal x\\n        x = 20\\n    inner()\\n    return x\\nprint(outer())', 'counter =0\\n\\ndef global_counter():\\n    global counter\\n    counter += 1\\nglobal_counter()\\n\\nprint(counter) ', 'x = 10\\n\\ndef nested_scopes():\\n    x = 30\\n    def inner():\\n        x = 20\\n        print(f\"Глобальная x: {globals()[\\'x\\']}, Локальная x: {x}, Объемлящая x: {locals().get(\\'x\\', None)}\")\\n    inner()\\n    print(\"Объемлящая x:\", x)\\n    print(\"Глобальная x:\", globals()[\\'x\\'])\\n\\nnested_scopes()', 'my_list = [1, 2, 3]\\n\\ndef modify_global(item):\\n    global my_list\\n    my_list.append(item)\\nmodify_global(4)\\nprint(my_list)', 'def scope_test():\\n    local_var = \"test\"\\n    print(\"Локальные переменные:\", locals())\\n    print(\"Глобальные переменные:\", globals())\\nscope_test()', '# ваш код тут', 'def check_any_true(lst):\\n    return any(all(sublist) for sublist in lst)\\nprint(check_any_true([[True, True], [False, False], [True, False]]))  \\nprint(check_any_true([[False, False], [False, False]]))', 'def validate_types(objects, types):\\n    return all(isinstance(obj, types) for obj in objects)\\nprint(validate_types([1, \"hello\", 3.14], (int, str, float)))  \\nprint(validate_types([1, \"hello\", [1, 2]], (int, str)))', 'def compare_objects(a, b):\\n    if a is b:\\n        return \"Объекты идентичны\"\\n    elif a == b:\\n        return \"Содержимое одинаково, но объекты разные\"\\n    else:\\n        return \"Объекты разные\"\\na = [1, 2, 3]\\nb = [1, 2, 3]\\nc = a\\nprint(compare_objects(a, b)) \\nprint(compare_objects(a, c))', \"def get_object_info(obj):\\n    return [attr for attr in dir(obj) if not attr.startswith('__')]\\nprint(get_object_info([]))\", 'def check_any_true(lst):\\n    return any(any(sublist) for sublist in lst)\\n\\nprint(check_any_true([[True, False], [False, False], [True, True]]))  \\nprint(check_any_true([[False, False], [False, False]])) ', 'def power(base, exponent):\\n    if exponent == 0:\\n        return 1\\n    return base * power(base, exponent - 1)\\nprint(power(2, 3)) \\nprint(power(5, 0))', 'def count_down(n):\\n    if n < 0:\\n        return\\n    print(n)\\n    count_down(n - 1)\\ncount_down(10)', 'def find_max(lst):\\n    if len(lst) == 1:\\n        return lst[0]\\n    return max(lst[0], find_max(lst[1:]))\\nprint(find_max([1, 5, 3, 9, 2]))', 'def reverse_string(s):\\n    if len(s) == 0:\\n        return s\\n    return reverse_string(s[1:]) + s[0]\\nprint(reverse_string(\"hello\"))', 'def outer():\\n    x = 10\\n    def inner():\\n        nonlocal x\\n        x = 20\\n    inner()\\n    return x\\nprint(outer())', 'def scope_test():\\n    local_var = \"test\"\\n    print(\"Локальные переменные:\", locals())\\n    print(\"Глобальные переменные:\", globals())\\nscope_test()'], '_oh': {}, '_dh': [WindowsPath('c:/Users/anton/05-23-11_POPOV-ANTON')], 'In': ['', 'def check_any_true(lst):\\n    return any(all(sublist) for sublist in lst)\\nprint(check_any_true([[True, True], [False, False], [True, False]]))  \\nprint(check_any_true([[False, False], [False, False]]))', 'def validate_types(objects, types):\\n    return all(isinstance(obj, types) for obj in objects)\\nprint(validate_types([1, \"hello\", 3.14], (int, str, float)))  \\nprint(validate_types([1, \"hello\", [1, 2]], (int, str)))', 'def compare_objects(a, b):\\n    if a is b:\\n        return \"Объекты идентичны\"\\n    elif a == b:\\n        return \"Содержимое одинаково, но объекты разные\"\\n    else:\\n        return \"Объекты разные\"\\na = [1, 2, 3]\\nb = [1, 2, 3]\\nc = a\\nprint(compare_objects(a, b)) \\nprint(compare_objects(a, c))', \"def get_object_info(obj):\\n    return [attr for attr in dir(obj) if not attr.startswith('__')]\\nprint(get_object_info([]))\", 'def check_any_true(lst):\\n    return any(any(sublist) for sublist in lst)\\n\\nprint(check_any_true([[True, False], [False, False], [True, True]]))  \\nprint(check_any_true([[False, False], [False, False]])) ', 'def power(base, exponent):\\n    if exponent == 0:\\n        return 1\\n    return base * power(base, exponent - 1)\\nprint(power(2, 3)) \\nprint(power(5, 0))', 'def count_down(n):\\n    if n < 0:\\n        return\\n    print(n)\\n    count_down(n - 1)\\ncount_down(10)', 'def find_max(lst):\\n    if len(lst) == 1:\\n        return lst[0]\\n    return max(lst[0], find_max(lst[1:]))\\nprint(find_max([1, 5, 3, 9, 2]))', 'def reverse_string(s):\\n    if len(s) == 0:\\n        return s\\n    return reverse_string(s[1:]) + s[0]\\nprint(reverse_string(\"hello\"))', 'def flatten_list(nested):\\n    if not isinstance(nested, list):\\n        return [nested]\\n    flat = []\\n    for item in nested:\\n        flat.extend(flatten_list(item))\\n    return flat\\nprint(flatten_list([1, [2, [3, 4], 5]]))', 'def outer():\\n    x = 10\\n    def inner():\\n        nonlocal x\\n        x = 20\\n    inner()\\n    return x\\nprint(outer())', 'counter =0\\n\\ndef global_counter():\\n    global counter\\n    counter += 1\\nglobal_counter()\\n\\nprint(counter) ', 'x = 10\\n\\ndef nested_scopes():\\n    x = 30\\n    def inner():\\n        x = 20\\n        print(f\"Глобальная x: {globals()[\\'x\\']}, Локальная x: {x}, Объемлящая x: {locals().get(\\'x\\', None)}\")\\n    inner()\\n    print(\"Объемлящая x:\", x)\\n    print(\"Глобальная x:\", globals()[\\'x\\'])\\n\\nnested_scopes()', 'my_list = [1, 2, 3]\\n\\ndef modify_global(item):\\n    global my_list\\n    my_list.append(item)\\nmodify_global(4)\\nprint(my_list)', 'def scope_test():\\n    local_var = \"test\"\\n    print(\"Локальные переменные:\", locals())\\n    print(\"Глобальные переменные:\", globals())\\nscope_test()', '# ваш код тут', 'def check_any_true(lst):\\n    return any(all(sublist) for sublist in lst)\\nprint(check_any_true([[True, True], [False, False], [True, False]]))  \\nprint(check_any_true([[False, False], [False, False]]))', 'def validate_types(objects, types):\\n    return all(isinstance(obj, types) for obj in objects)\\nprint(validate_types([1, \"hello\", 3.14], (int, str, float)))  \\nprint(validate_types([1, \"hello\", [1, 2]], (int, str)))', 'def compare_objects(a, b):\\n    if a is b:\\n        return \"Объекты идентичны\"\\n    elif a == b:\\n        return \"Содержимое одинаково, но объекты разные\"\\n    else:\\n        return \"Объекты разные\"\\na = [1, 2, 3]\\nb = [1, 2, 3]\\nc = a\\nprint(compare_objects(a, b)) \\nprint(compare_objects(a, c))', \"def get_object_info(obj):\\n    return [attr for attr in dir(obj) if not attr.startswith('__')]\\nprint(get_object_info([]))\", 'def check_any_true(lst):\\n    return any(any(sublist) for sublist in lst)\\n\\nprint(check_any_true([[True, False], [False, False], [True, True]]))  \\nprint(check_any_true([[False, False], [False, False]])) ', 'def power(base, exponent):\\n    if exponent == 0:\\n        return 1\\n    return base * power(base, exponent - 1)\\nprint(power(2, 3)) \\nprint(power(5, 0))', 'def count_down(n):\\n    if n < 0:\\n        return\\n    print(n)\\n    count_down(n - 1)\\ncount_down(10)', 'def find_max(lst):\\n    if len(lst) == 1:\\n        return lst[0]\\n    return max(lst[0], find_max(lst[1:]))\\nprint(find_max([1, 5, 3, 9, 2]))', 'def reverse_string(s):\\n    if len(s) == 0:\\n        return s\\n    return reverse_string(s[1:]) + s[0]\\nprint(reverse_string(\"hello\"))', 'def outer():\\n    x = 10\\n    def inner():\\n        nonlocal x\\n        x = 20\\n    inner()\\n    return x\\nprint(outer())', 'def scope_test():\\n    local_var = \"test\"\\n    print(\"Локальные переменные:\", locals())\\n    print(\"Глобальные переменные:\", globals())\\nscope_test()'], 'Out': {}, 'get_ipython': <bound method InteractiveShell.get_ipython of <ipykernel.zmqshell.ZMQInteractiveShell object at 0x0000021498276E90>>, 'exit': <IPython.core.autocall.ZMQExitAutocall object at 0x0000021498297350>, 'quit': <IPython.core.autocall.ZMQExitAutocall object at 0x0000021498297350>, 'open': <function open at 0x00000214963A7880>, '_': '', '__': '', '___': '', '__vsc_ipynb_file__': 'c:\\\\Users\\\\anton\\\\05-23-11_POPOV-ANTON\\\\m3_hw.ipynb', '_i': 'def outer():\\n    x = 10\\n    def inner():\\n        nonlocal x\\n        x = 20\\n    inner()\\n    return x\\nprint(outer())', '_ii': 'def reverse_string(s):\\n    if len(s) == 0:\\n        return s\\n    return reverse_string(s[1:]) + s[0]\\nprint(reverse_string(\"hello\"))', '_iii': 'def find_max(lst):\\n    if len(lst) == 1:\\n        return lst[0]\\n    return max(lst[0], find_max(lst[1:]))\\nprint(find_max([1, 5, 3, 9, 2]))', '_i1': 'def check_any_true(lst):\\n    return any(all(sublist) for sublist in lst)\\nprint(check_any_true([[True, True], [False, False], [True, False]]))  \\nprint(check_any_true([[False, False], [False, False]]))', 'check_any_true': <function check_any_true at 0x00000214982C1260>, '_i2': 'def validate_types(objects, types):\\n    return all(isinstance(obj, types) for obj in objects)\\nprint(validate_types([1, \"hello\", 3.14], (int, str, float)))  \\nprint(validate_types([1, \"hello\", [1, 2]], (int, str)))', 'validate_types': <function validate_types at 0x00000214982C1EE0>, '_i3': 'def compare_objects(a, b):\\n    if a is b:\\n        return \"Объекты идентичны\"\\n    elif a == b:\\n        return \"Содержимое одинаково, но объекты разные\"\\n    else:\\n        return \"Объекты разные\"\\na = [1, 2, 3]\\nb = [1, 2, 3]\\nc = a\\nprint(compare_objects(a, b)) \\nprint(compare_objects(a, c))', 'compare_objects': <function compare_objects at 0x00000214982C22A0>, 'a': [1, 2, 3], 'b': [1, 2, 3], 'c': [1, 2, 3], '_i4': \"def get_object_info(obj):\\n    return [attr for attr in dir(obj) if not attr.startswith('__')]\\nprint(get_object_info([]))\", 'get_object_info': <function get_object_info at 0x00000214982C1580>, '_i5': 'def check_any_true(lst):\\n    return any(any(sublist) for sublist in lst)\\n\\nprint(check_any_true([[True, False], [False, False], [True, True]]))  \\nprint(check_any_true([[False, False], [False, False]])) ', '_i6': 'def power(base, exponent):\\n    if exponent == 0:\\n        return 1\\n    return base * power(base, exponent - 1)\\nprint(power(2, 3)) \\nprint(power(5, 0))', 'power': <function power at 0x00000214982C0C20>, '_i7': 'def count_down(n):\\n    if n < 0:\\n        return\\n    print(n)\\n    count_down(n - 1)\\ncount_down(10)', 'count_down': <function count_down at 0x00000214982C2480>, '_i8': 'def find_max(lst):\\n    if len(lst) == 1:\\n        return lst[0]\\n    return max(lst[0], find_max(lst[1:]))\\nprint(find_max([1, 5, 3, 9, 2]))', 'find_max': <function find_max at 0x00000214982C0D60>, '_i9': 'def reverse_string(s):\\n    if len(s) == 0:\\n        return s\\n    return reverse_string(s[1:]) + s[0]\\nprint(reverse_string(\"hello\"))', 'reverse_string': <function reverse_string at 0x00000214982C2340>, '_i10': 'def flatten_list(nested):\\n    if not isinstance(nested, list):\\n        return [nested]\\n    flat = []\\n    for item in nested:\\n        flat.extend(flatten_list(item))\\n    return flat\\nprint(flatten_list([1, [2, [3, 4], 5]]))', 'flatten_list': <function flatten_list at 0x00000214982C19E0>, '_i11': 'def outer():\\n    x = 10\\n    def inner():\\n        nonlocal x\\n        x = 20\\n    inner()\\n    return x\\nprint(outer())', 'outer': <function outer at 0x00000214982C20C0>, '_i12': 'counter =0\\n\\ndef global_counter():\\n    global counter\\n    counter += 1\\nglobal_counter()\\n\\nprint(counter) ', 'counter': 1, 'global_counter': <function global_counter at 0x00000214982C13A0>, '_i13': 'x = 10\\n\\ndef nested_scopes():\\n    x = 30\\n    def inner():\\n        x = 20\\n        print(f\"Глобальная x: {globals()[\\'x\\']}, Локальная x: {x}, Объемлящая x: {locals().get(\\'x\\', None)}\")\\n    inner()\\n    print(\"Объемлящая x:\", x)\\n    print(\"Глобальная x:\", globals()[\\'x\\'])\\n\\nnested_scopes()', 'x': 10, 'nested_scopes': <function nested_scopes at 0x00000214982C1E40>, '_i14': 'my_list = [1, 2, 3]\\n\\ndef modify_global(item):\\n    global my_list\\n    my_list.append(item)\\nmodify_global(4)\\nprint(my_list)', 'my_list': [1, 2, 3, 4], 'modify_global': <function modify_global at 0x00000214982C1B20>, '_i15': 'def scope_test():\\n    local_var = \"test\"\\n    print(\"Локальные переменные:\", locals())\\n    print(\"Глобальные переменные:\", globals())\\nscope_test()', 'scope_test': <function scope_test at 0x00000214982C0CC0>, '_i16': '# ваш код тут', '_i17': 'def check_any_true(lst):\\n    return any(all(sublist) for sublist in lst)\\nprint(check_any_true([[True, True], [False, False], [True, False]]))  \\nprint(check_any_true([[False, False], [False, False]]))', '_i18': 'def validate_types(objects, types):\\n    return all(isinstance(obj, types) for obj in objects)\\nprint(validate_types([1, \"hello\", 3.14], (int, str, float)))  \\nprint(validate_types([1, \"hello\", [1, 2]], (int, str)))', '_i19': 'def compare_objects(a, b):\\n    if a is b:\\n        return \"Объекты идентичны\"\\n    elif a == b:\\n        return \"Содержимое одинаково, но объекты разные\"\\n    else:\\n        return \"Объекты разные\"\\na = [1, 2, 3]\\nb = [1, 2, 3]\\nc = a\\nprint(compare_objects(a, b)) \\nprint(compare_objects(a, c))', '_i20': \"def get_object_info(obj):\\n    return [attr for attr in dir(obj) if not attr.startswith('__')]\\nprint(get_object_info([]))\", '_i21': 'def check_any_true(lst):\\n    return any(any(sublist) for sublist in lst)\\n\\nprint(check_any_true([[True, False], [False, False], [True, True]]))  \\nprint(check_any_true([[False, False], [False, False]])) ', '_i22': 'def power(base, exponent):\\n    if exponent == 0:\\n        return 1\\n    return base * power(base, exponent - 1)\\nprint(power(2, 3)) \\nprint(power(5, 0))', '_i23': 'def count_down(n):\\n    if n < 0:\\n        return\\n    print(n)\\n    count_down(n - 1)\\ncount_down(10)', '_i24': 'def find_max(lst):\\n    if len(lst) == 1:\\n        return lst[0]\\n    return max(lst[0], find_max(lst[1:]))\\nprint(find_max([1, 5, 3, 9, 2]))', '_i25': 'def reverse_string(s):\\n    if len(s) == 0:\\n        return s\\n    return reverse_string(s[1:]) + s[0]\\nprint(reverse_string(\"hello\"))', '_i26': 'def outer():\\n    x = 10\\n    def inner():\\n        nonlocal x\\n        x = 20\\n    inner()\\n    return x\\nprint(outer())', '_i27': 'def scope_test():\\n    local_var = \"test\"\\n    print(\"Локальные переменные:\", locals())\\n    print(\"Глобальные переменные:\", globals())\\nscope_test()'}\n"
     ]
    }
   ],
   "source": [
    "def scope_test():\n",
    "    local_var = \"test\"\n",
    "    print(\"Локальные переменные:\", locals())\n",
    "    print(\"Глобальные переменные:\", globals())\n",
    "scope_test()"
   ]
  },
  {
   "cell_type": "markdown",
   "metadata": {},
   "source": [
    "\n",
    "\n",
    "Каждая задача соответствует уровню сложности и охватывает ключевые аспекты темы, не выходя за рамки описанных в файлах конструкций."
   ]
  }
 ],
 "metadata": {
  "kernelspec": {
   "display_name": "Python 3",
   "language": "python",
   "name": "python3"
  },
  "language_info": {
   "codemirror_mode": {
    "name": "ipython",
    "version": 3
   },
   "file_extension": ".py",
   "mimetype": "text/x-python",
   "name": "python",
   "nbconvert_exporter": "python",
   "pygments_lexer": "ipython3",
   "version": "3.11.9"
  }
 },
 "nbformat": 4,
 "nbformat_minor": 2
}
