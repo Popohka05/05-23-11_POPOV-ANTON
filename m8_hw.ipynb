{
  "cells": [
    {
      "cell_type": "markdown",
      "metadata": {
        "id": "saPunkVS0gYM"
      },
      "source": [
        "### Задачи по теме **\"Базовые исключения и обработка ошибок\"**\n",
        "\n"
      ]
    },
    {
      "cell_type": "markdown",
      "metadata": {
        "id": "eKOw5Wp50gYN"
      },
      "source": [
        "\n",
        "\n",
        "1. **Деление с обработкой ZeroDivisionError**  \n",
        "Напишите функцию `safe_divide()`, которая принимает два числа и возвращает результат деления. Обработайте исключение деления на ноль, возвращая в этом случае `None`.  \n",
        "Пример:  \n",
        "```python\n",
        "print(safe_divide(10, 2))  # 5.0\n",
        "print(safe_divide(10, 0))  # None\n",
        "```\n",
        "\n"
      ]
    },
    {
      "cell_type": "code",
      "execution_count": 1,
      "metadata": {
        "id": "vY_ZCRUY0gYN"
      },
      "outputs": [],
      "source": [
        "def safe_divide(a, b):\n",
        "    try:\n",
        "        return a / b\n",
        "    except ZeroDivisionError:\n",
        "        return None"
      ]
    },
    {
      "cell_type": "markdown",
      "metadata": {
        "id": "6vpmTrQN0gYO"
      },
      "source": [
        "\n",
        "\n",
        "2. **Преобразование строки в число**  \n",
        "Создайте функцию `convert_to_int()`, которая принимает строку и преобразует её в целое число. Обработайте `ValueError`, возвращая `\"Ошибка преобразования\"`.  \n",
        "Пример:  \n",
        "```python\n",
        "print(convert_to_int(\"123\"))  # 123\n",
        "print(convert_to_int(\"abc\"))  # \"Ошибка преобразования\"\n",
        "```\n",
        "\n"
      ]
    },
    {
      "cell_type": "code",
      "execution_count": 3,
      "metadata": {
        "id": "XMh85gg90gYO"
      },
      "outputs": [],
      "source": [
        "def convert_to_int(s):\n",
        "    try:\n",
        "        return int(s)\n",
        "    except ValueError:\n",
        "        return \"Ошибка преобразования\""
      ]
    },
    {
      "cell_type": "markdown",
      "metadata": {
        "id": "5o23zq090gYO"
      },
      "source": [
        "\n",
        "\n",
        "3. **Обработка TypeError**  \n",
        "Напишите функцию `add_numbers()`, которая складывает два числа. Если переданы нечисловые аргументы, обработайте `TypeError` и верните `\"Аргументы должны быть числами\"`.  \n",
        "Пример:  \n",
        "```python\n",
        "print(add_numbers(2, 3))    # 5\n",
        "print(add_numbers(2, \"a\"))  # \"Аргументы должны быть числами\"\n",
        "```\n",
        "\n"
      ]
    },
    {
      "cell_type": "code",
      "execution_count": 5,
      "metadata": {
        "id": "vAamc5zJ0gYO"
      },
      "outputs": [],
      "source": [
        "def add_numbers(a, b):\n",
        "    try:\n",
        "        return a + b\n",
        "    except TypeError:\n",
        "        return \"Аргументы должны быть числами\""
      ]
    },
    {
      "cell_type": "markdown",
      "metadata": {
        "id": "vA7n0lra0gYO"
      },
      "source": [
        "\n",
        "\n",
        "### Задачи по теме **\"Множественная обработка исключений\"**\n",
        "\n"
      ]
    },
    {
      "cell_type": "markdown",
      "metadata": {
        "id": "lQ_0sPVN0gYP"
      },
      "source": [
        "\n",
        "\n",
        "4. **Комплексная проверка ввода**  \n",
        "Создайте функцию `get_user_input()`, которая запрашивает у пользователя число. Обработайте `ValueError` (нечисловой ввод) и `KeyboardInterrupt` (прерывание ввода).  \n",
        "Пример:  \n",
        "```python\n",
        "Введите число: abc\n",
        "Ошибка: Введите число!\n",
        "Введите число: (нажато Ctrl+C)\n",
        "Программа прервана.\n",
        "```\n",
        "\n"
      ]
    },
    {
      "cell_type": "code",
      "execution_count": 7,
      "metadata": {
        "id": "ttZHdzCi0gYP"
      },
      "outputs": [],
      "source": [
        "def get_user_input():\n",
        "    try:\n",
        "        num = input(\"Введите число: \")\n",
        "        return float(num)\n",
        "    except ValueError:\n",
        "        print(\"Ошибка: Введите число!\")\n",
        "    except KeyboardInterrupt:\n",
        "        print(\"\\nПрограмма прервана.\")"
      ]
    },
    {
      "cell_type": "markdown",
      "metadata": {
        "id": "nEOzr5DF0gYP"
      },
      "source": [
        "\n",
        "\n",
        "5. **Работа с файлами и исключениями**  \n",
        "Напишите функцию `read_file()`, которая читает файл и возвращает его содержимое. Обработайте `FileNotFoundError` и `PermissionError`.  \n",
        "Пример:  \n",
        "```python\n",
        "print(read_file(\"nonexistent.txt\"))  # \"Файл не найден\"\n",
        "```\n",
        "\n"
      ]
    },
    {
      "cell_type": "code",
      "execution_count": 10,
      "metadata": {
        "id": "wdY-m5cU0gYP"
      },
      "outputs": [],
      "source": [
        "def read_file(filename):\n",
        "    try:\n",
        "        with open(filename, 'r') as f:\n",
        "            return f.read()\n",
        "    except FileNotFoundError:\n",
        "        return \"Файл не найден\"\n",
        "    except PermissionError:\n",
        "        return \"Нет прав доступа\""
      ]
    },
    {
      "cell_type": "markdown",
      "metadata": {
        "id": "NoRUTtPS0gYQ"
      },
      "source": [
        "\n",
        "\n",
        "6. **Обработка арифметических ошибок**  \n",
        "Создайте функцию `calculate()`, которая выполняет деление и обрабатывает `ZeroDivisionError` и `OverflowError`.  \n",
        "Пример:  \n",
        "```python\n",
        "print(calculate(10, 0))    # \"Деление на ноль\"\n",
        "print(calculate(1e100, 1)) # \"Переполнение\"\n",
        "```\n",
        "\n"
      ]
    },
    {
      "cell_type": "code",
      "execution_count": 12,
      "metadata": {
        "id": "47DK69_f0gYQ"
      },
      "outputs": [],
      "source": [
        "def calculate(a, b):\n",
        "    try:\n",
        "        return a / b\n",
        "    except ZeroDivisionError:\n",
        "        return \"Деление на ноль\"\n",
        "    except OverflowError:\n",
        "        return \"Переполнение\""
      ]
    },
    {
      "cell_type": "markdown",
      "metadata": {
        "id": "AZGJTZBE0gYR"
      },
      "source": [
        "\n",
        "\n",
        "### Задачи по теме **\"Использование finally и else\"**\n",
        "\n"
      ]
    },
    {
      "cell_type": "markdown",
      "metadata": {
        "id": "T-hBlIMb0gYR"
      },
      "source": [
        "\n",
        "\n",
        "7. **Закрытие ресурсов**  \n",
        "Напишите функцию `open_file()`, которая открывает файл, читает первую строку и закрывает его, используя `finally`.  \n",
        "Пример:  \n",
        "```python\n",
        "print(open_file(\"example.txt\"))  # \"Первая строка файла\"\n",
        "```\n",
        "\n"
      ]
    },
    {
      "cell_type": "code",
      "execution_count": 14,
      "metadata": {
        "id": "Idd2UNug0gYR"
      },
      "outputs": [],
      "source": [
        "def open_file(filename):\n",
        "    f = None\n",
        "    try:\n",
        "        f = open(filename, 'r')\n",
        "        return f.readline().strip()\n",
        "    finally:\n",
        "        if f is not None:\n",
        "            f.close()"
      ]
    },
    {
      "cell_type": "markdown",
      "metadata": {
        "id": "A6suNWUf0gYS"
      },
      "source": [
        "\n",
        "\n",
        "8. **Успешное выполнение блока try**  \n",
        "Создайте функцию `check_even()`, которая проверяет, является ли число чётным. Используйте `else` для вывода сообщения об успехе.  \n",
        "Пример:  \n",
        "```python\n",
        "check_even(4)  # \"Число 4 чётное\"\n",
        "check_even(3)  # Ничего не выводится\n",
        "```\n",
        "\n"
      ]
    },
    {
      "cell_type": "code",
      "execution_count": 17,
      "metadata": {
        "id": "iYQa9LCw0gYS"
      },
      "outputs": [],
      "source": [
        "def check_even(num):\n",
        "    try:\n",
        "        if num % 2 != 0:\n",
        "            return\n",
        "    except TypeError:\n",
        "        pass\n",
        "    else:\n",
        "        print(f\"Число {num} чётное\")"
      ]
    },
    {
      "cell_type": "markdown",
      "metadata": {
        "id": "_5WQC_4x0gYS"
      },
      "source": [
        "\n",
        "\n",
        "### Задачи по теме **\"Пользовательские исключения\"**\n",
        "\n"
      ]
    },
    {
      "cell_type": "markdown",
      "metadata": {
        "id": "D1Apoxew0gYS"
      },
      "source": [
        "\n",
        "\n",
        "9. **Проверка возраста**  \n",
        "Создайте исключение `NegativeAgeError` и функцию `validate_age()`, которая проверяет, что возраст не отрицательный.  \n",
        "Пример:  \n",
        "```python\n",
        "validate_age(-5)  # Ошибка: Возраст не может быть отрицательным\n",
        "validate_age(25)  # Успех\n",
        "```\n",
        "\n"
      ]
    },
    {
      "cell_type": "code",
      "execution_count": 34,
      "metadata": {
        "id": "mt1JH6lL0gYS"
      },
      "outputs": [],
      "source": [
        "class NegativeAgeError(Exception):\n",
        "    pass\n",
        "\n",
        "def validate_age(age):\n",
        "    if age < 0:\n",
        "        raise NegativeAgeError(\"Возраст не может быть отрицательным\")\n",
        "    print(\"Успех\")"
      ]
    },
    {
      "cell_type": "markdown",
      "metadata": {
        "id": "1ua2IbfY0gYT"
      },
      "source": [
        "\n",
        "\n",
        "10. **Проверка пароля**  \n",
        "Напишите исключение `WeakPasswordError` и функцию `check_password()`, которая проверяет длину пароля (минимум 8 символов).  \n",
        "Пример:  \n",
        "```python\n",
        "check_password(\"123\")  # Ошибка: Пароль слишком короткий\n",
        "check_password(\"secure123\")  # Успех\n",
        "```\n"
      ]
    },
    {
      "cell_type": "code",
      "execution_count": 38,
      "metadata": {
        "id": "fWrRdQeH0gYT"
      },
      "outputs": [],
      "source": [
        "class WeakPasswordError(Exception):\n",
        "    pass\n",
        "\n",
        "def check_password(password):\n",
        "    if len(password) < 8:\n",
        "        raise WeakPasswordError(\"Пароль слишком короткий\")\n",
        "    print(\"Успех\")"
      ]
    }
  ],
  "metadata": {
    "language_info": {
      "name": "python"
    },
    "colab": {
      "provenance": []
    },
    "kernelspec": {
      "name": "python3",
      "display_name": "Python 3"
    }
  },
  "nbformat": 4,
  "nbformat_minor": 0
}