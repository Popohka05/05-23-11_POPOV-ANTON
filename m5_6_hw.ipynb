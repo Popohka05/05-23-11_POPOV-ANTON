{
  "cells": [
    {
      "cell_type": "markdown",
      "metadata": {
        "id": "5rCFA5pTSh6x"
      },
      "source": [
        "### Задачи по теме **\"Классы и объекты\"**\n",
        "\n"
      ]
    },
    {
      "cell_type": "markdown",
      "metadata": {
        "id": "bs3ErpwcSh6y"
      },
      "source": [
        "\n",
        "\n",
        "1. Создайте класс `Book` с атрибутами `title`, `author` и `pages`. Добавьте метод `info()`, который выводит информацию о книге в формате: \"Название: [title], Автор: [author], Страниц: [pages]\".\n",
        "\n"
      ]
    },
    {
      "cell_type": "code",
      "execution_count": 27,
      "metadata": {
        "id": "j2Rn8PG7Sh6z"
      },
      "outputs": [],
      "source": [
        "class Book:\n",
        "    def __init__(self, title, author, pages):\n",
        "        self.title = title\n",
        "        self.author = author\n",
        "        self.pages = pages\n",
        "\n",
        "    def info(self):\n",
        "        print(f\"Название: {self.title}, Автор: {self.author}, Страниц: {self.pages}\")"
      ]
    },
    {
      "cell_type": "markdown",
      "metadata": {
        "id": "F1d7N3brSh6z"
      },
      "source": [
        "\n",
        "\n",
        "2. Реализуйте класс `Circle` с атрибутом `radius`. Добавьте методы `area()` и `circumference()`, возвращающие площадь и длину окружности соответственно.\n",
        "\n"
      ]
    },
    {
      "cell_type": "code",
      "execution_count": 28,
      "metadata": {
        "id": "4sZZBh1NSh6z"
      },
      "outputs": [],
      "source": [
        "import math\n",
        "\n",
        "class Circle:\n",
        "    def __init__(self, radius):\n",
        "        self.radius = radius\n",
        "\n",
        "    def area(self):\n",
        "        return math.pi * self.radius ** 2\n",
        "\n",
        "    def circumference(self):\n",
        "        return 2 * math.pi * self.radius"
      ]
    },
    {
      "cell_type": "markdown",
      "metadata": {
        "id": "M3AtkaU-Sh6z"
      },
      "source": [
        "\n",
        "\n",
        "3. Создайте класс `Student` с атрибутами `name`, `age` и `grades` (список оценок). Добавьте метод `average_grade()`, вычисляющий средний балл студента.\n",
        "\n"
      ]
    },
    {
      "cell_type": "code",
      "execution_count": 29,
      "metadata": {
        "id": "EauHV-49Sh6z"
      },
      "outputs": [],
      "source": [
        "class Student:\n",
        "    def __init__(self, name, age, grades):\n",
        "        self.name = name\n",
        "        self.age = age\n",
        "        self.grades = grades\n",
        "\n",
        "    def average_grade(self):\n",
        "        return sum(self.grades) / len(self.grades)"
      ]
    },
    {
      "cell_type": "markdown",
      "metadata": {
        "id": "rwrT6tSMSh60"
      },
      "source": [
        "\n",
        "\n",
        "4. Напишите класс `BankAccount` с атрибутами `owner` и `balance`. Реализуйте методы `deposit()` и `withdraw()` для управления балансом.\n",
        "\n"
      ]
    },
    {
      "cell_type": "code",
      "execution_count": 30,
      "metadata": {
        "id": "H4pCciFoSh60"
      },
      "outputs": [],
      "source": [
        "class BankAccount:\n",
        "    def __init__(self, owner, balance=0):\n",
        "        self.owner = owner\n",
        "        self.balance = balance\n",
        "\n",
        "    def deposit(self, amount):\n",
        "        self.balance += amount\n",
        "        print(f\"Пополнение на {amount}. Новый баланс: {self.balance}\")\n",
        "\n",
        "    def withdraw(self, amount):\n",
        "        if amount > self.balance:\n",
        "            print(\"Недостаточно средств\")\n",
        "        else:\n",
        "            self.balance -= amount\n",
        "            print(f\"Снятие {amount}. Новый баланс: {self.balance}\")\n"
      ]
    },
    {
      "cell_type": "markdown",
      "metadata": {
        "id": "8TH3d56XSh60"
      },
      "source": [
        "\n",
        "\n",
        "5. Создайте класс `Car` с атрибутами `brand`, `model` и `year`. Добавьте метод `age()`, который возвращает возраст автомобиля в годах.\n",
        "\n"
      ]
    },
    {
      "cell_type": "code",
      "execution_count": 31,
      "metadata": {
        "id": "mrxAP8XpSh60"
      },
      "outputs": [],
      "source": [
        "from datetime import datetime\n",
        "\n",
        "class Car:\n",
        "    def __init__(self, brand, model, year):\n",
        "        self.brand = brand\n",
        "        self.model = model\n",
        "        self.year = year\n",
        "\n",
        "    def age(self):\n",
        "        current_year = datetime.now().year\n",
        "        return current_year - self.year"
      ]
    },
    {
      "cell_type": "markdown",
      "metadata": {
        "id": "Ks1WL369Sh60"
      },
      "source": [
        "\n",
        "\n",
        "6. Реализуйте класс `Vector` с атрибутами `x` и `y`. Перегрузите оператор `+` для сложения векторов.\n",
        "\n"
      ]
    },
    {
      "cell_type": "code",
      "execution_count": 32,
      "metadata": {
        "id": "wtnO341xSh60"
      },
      "outputs": [],
      "source": [
        "class Vector:\n",
        "    def __init__(self, x, y):\n",
        "        self.x = x\n",
        "        self.y = y\n",
        "\n",
        "    def __add__(self, other):\n",
        "        return Vector(self.x + other.x, self.y + other.y)\n",
        "\n",
        "    def __repr__(self):\n",
        "        return f\"Vector({self.x}, {self.y})\""
      ]
    },
    {
      "cell_type": "markdown",
      "metadata": {
        "id": "KO_7HR0BSh60"
      },
      "source": [
        "\n",
        "\n",
        "7. Создайте класс `Matrix` с атрибутом `data` (список списков). Перегрузите оператор `*` для умножения матриц.\n",
        "\n"
      ]
    },
    {
      "cell_type": "code",
      "execution_count": 33,
      "metadata": {
        "id": "qO8Jt5c1Sh60"
      },
      "outputs": [],
      "source": [
        "class Matrix:\n",
        "    def __init__(self, data):\n",
        "        self.data = data\n",
        "\n",
        "    def __mul__(self, other):\n",
        "        result = []\n",
        "        for i in range(len(self.data)):\n",
        "            row = []\n",
        "            for j in range(len(other.data[0])):\n",
        "                val = 0\n",
        "                for k in range(len(other.data)):\n",
        "                    val += self.data[i][k] * other.data[k][j]\n",
        "                row.append(val)\n",
        "            result.append(row)\n",
        "        return Matrix(result)\n",
        "\n",
        "    def __repr__(self):\n",
        "        return '\\n'.join([' '.join(map(str, row)) for row in self.data])"
      ]
    },
    {
      "cell_type": "markdown",
      "metadata": {
        "id": "losK2goCSh61"
      },
      "source": [
        "\n",
        "\n",
        "8. Напишите класс `Fraction` для работы с дробями. Реализуйте методы для сложения, вычитания, умножения и деления дробей.\n",
        "\n"
      ]
    },
    {
      "cell_type": "code",
      "execution_count": 4,
      "metadata": {
        "id": "T0n2CaysSh61"
      },
      "outputs": [],
      "source": [
        "class Fraction:\n",
        "    def __init__(self, numerator, denominator):\n",
        "        self.numerator = numerator\n",
        "        self.denominator = denominator\n",
        "\n",
        "    def __add__(self, other):\n",
        "        new_num = self.numerator * other.denominator + other.numerator * self.denominator\n",
        "        new_den = self.denominator * other.denominator\n",
        "        return Fraction(new_num, new_den)\n",
        "\n",
        "    def __sub__(self, other):\n",
        "        new_num = self.numerator * other.denominator - other.numerator * self.denominator\n",
        "        new_den = self.denominator * other.denominator\n",
        "        return Fraction(new_num, new_den)\n",
        "\n",
        "    def __mul__(self, other):\n",
        "        return Fraction(self.numerator * other.numerator, self.denominator * other.denominator)\n",
        "\n",
        "    def __truediv__(self, other):\n",
        "        return Fraction(self.numerator * other.denominator, self.denominator * other.numerator)\n",
        "\n",
        "    def __repr__(self):\n",
        "        return f\"{self.numerator}/{self.denominator}\""
      ]
    },
    {
      "cell_type": "markdown",
      "metadata": {
        "id": "hymDJJSgSh61"
      },
      "source": [
        "\n",
        "\n",
        "9. Создайте класс `Person` с атрибутами `name` и `birth_year`. Добавьте свойство `age`, которое вычисляет возраст человека.\n",
        "\n"
      ]
    },
    {
      "cell_type": "code",
      "execution_count": 5,
      "metadata": {
        "id": "sUpxNI37Sh61"
      },
      "outputs": [],
      "source": [
        "from datetime import datetime\n",
        "\n",
        "class Person:\n",
        "    def __init__(self, name, birth_year):\n",
        "        self.name = name\n",
        "        self.birth_year = birth_year\n",
        "\n",
        "    @property\n",
        "    def age(self):\n",
        "        return datetime.now().year - self.birth_year"
      ]
    },
    {
      "cell_type": "markdown",
      "metadata": {
        "id": "rm61-0fzSh61"
      },
      "source": [
        "\n",
        "\n",
        "10. Реализуйте класс `Alarm` с атрибутами `time` и `message`. Добавьте метод `trigger()`, который выводит сообщение, если текущее время совпадает с `time`.\n",
        "\n"
      ]
    },
    {
      "cell_type": "code",
      "execution_count": 6,
      "metadata": {
        "id": "isDdbglESh61"
      },
      "outputs": [],
      "source": [
        "import time\n",
        "\n",
        "class Alarm:\n",
        "    def __init__(self, time, message):\n",
        "        self.time = time\n",
        "        self.message = message\n",
        "\n",
        "    def trigger(self):\n",
        "        while True:\n",
        "            current_time = time.strftime(\"%H:%M\")\n",
        "            if current_time == self.time:\n",
        "                print(self.message)\n",
        "                break\n",
        "            time.sleep(10)"
      ]
    },
    {
      "cell_type": "markdown",
      "metadata": {
        "id": "UclG4S4NSh61"
      },
      "source": [
        "\n",
        "\n",
        "### Задачи по теме **\"Наследование\"**\n",
        "\n"
      ]
    },
    {
      "cell_type": "markdown",
      "metadata": {
        "id": "zJtBHBU8Sh61"
      },
      "source": [
        "\n",
        "\n",
        "11. Создайте класс `Animal` с методом `speak()`. От него наследуйте классы `Dog` и `Cat`, переопределив метод `speak()` для каждого.\n",
        "\n"
      ]
    },
    {
      "cell_type": "code",
      "execution_count": 7,
      "metadata": {
        "id": "iCfOVkR8Sh61"
      },
      "outputs": [],
      "source": [
        "class Animal:\n",
        "    def speak(self):\n",
        "        pass\n",
        "\n",
        "class Dog(Animal):\n",
        "    def speak(self):\n",
        "        return \"Гав!\"\n",
        "\n",
        "class Cat(Animal):\n",
        "    def speak(self):\n",
        "        return \"Мяу!\""
      ]
    },
    {
      "cell_type": "markdown",
      "metadata": {
        "id": "1EdaOfT3Sh61"
      },
      "source": [
        "\n",
        "\n",
        "12. Реализуйте класс `Vehicle` с атрибутами `speed` и `fuel`. От него наследуйте классы `Car` и `Bicycle`, добавив уникальные атрибуты для каждого.\n",
        "\n"
      ]
    },
    {
      "cell_type": "code",
      "execution_count": 8,
      "metadata": {
        "id": "PCrvAyOrSh62"
      },
      "outputs": [],
      "source": [
        "class Vehicle:\n",
        "    def __init__(self, speed, fuel):\n",
        "        self.speed = speed\n",
        "        self.fuel = fuel\n",
        "\n",
        "class Car(Vehicle):\n",
        "    def __init__(self, speed, fuel, doors):\n",
        "        super().__init__(speed, fuel)\n",
        "        self.doors = doors\n",
        "\n",
        "class Bicycle(Vehicle):\n",
        "    def __init__(self, speed, fuel, gears):\n",
        "        super().__init__(speed, fuel)\n",
        "        self.gears = gears"
      ]
    },
    {
      "cell_type": "markdown",
      "metadata": {
        "id": "hbIWiT_0Sh62"
      },
      "source": [
        "\n",
        "\n",
        "13. Создайте класс `Employee` с атрибутами `name` и `salary`. От него наследуйте классы `Manager` и `Developer`, добавив специфичные методы.\n",
        "\n"
      ]
    },
    {
      "cell_type": "code",
      "execution_count": 9,
      "metadata": {
        "id": "pgjaCVYfSh62"
      },
      "outputs": [],
      "source": [
        "class Employee:\n",
        "    def __init__(self, name, salary):\n",
        "        self.name = name\n",
        "        self.salary = salary\n",
        "\n",
        "class Manager(Employee):\n",
        "    def manage(self):\n",
        "        return f\"{self.name} управляет командой\"\n",
        "\n",
        "class Developer(Employee):\n",
        "    def code(self):\n",
        "        return f\"{self.name} пишет код\""
      ]
    },
    {
      "cell_type": "markdown",
      "metadata": {
        "id": "2rdAwMZQSh62"
      },
      "source": [
        "\n",
        "\n",
        "14. Напишите класс `Shape` с методом `area()`. От него наследуйте классы `Rectangle` и `Circle`, реализовав расчет площади для каждой фигуры.\n",
        "\n"
      ]
    },
    {
      "cell_type": "code",
      "execution_count": 10,
      "metadata": {
        "id": "oWSecYVXSh62"
      },
      "outputs": [],
      "source": [
        "import math\n",
        "\n",
        "class Shape:\n",
        "    def area(self):\n",
        "        pass\n",
        "\n",
        "class Rectangle(Shape):\n",
        "    def __init__(self, width, height):\n",
        "        self.width = width\n",
        "        self.height = height\n",
        "\n",
        "    def area(self):\n",
        "        return self.width * self.height\n",
        "\n",
        "class Circle(Shape):\n",
        "    def __init__(self, radius):\n",
        "        self.radius = radius\n",
        "\n",
        "    def area(self):\n",
        "        return math.pi * self.radius ** 2"
      ]
    },
    {
      "cell_type": "markdown",
      "metadata": {
        "id": "4VpWxDC_Sh62"
      },
      "source": [
        "\n",
        "\n",
        "15. Создайте класс `ElectronicDevice` с атрибутом `power`. От него наследуйте классы `Smartphone` и `Laptop`, добавив уникальные методы.\n",
        "\n"
      ]
    },
    {
      "cell_type": "code",
      "execution_count": 11,
      "metadata": {
        "id": "p7bGjA5iSh62"
      },
      "outputs": [],
      "source": [
        "class ElectronicDevice:\n",
        "    def __init__(self, power):\n",
        "        self.power = power\n",
        "\n",
        "class Smartphone(ElectronicDevice):\n",
        "    def call(self):\n",
        "        return \"Звонок совершён\"\n",
        "\n",
        "class Laptop(ElectronicDevice):\n",
        "    def open_lid(self):\n",
        "        return \"Крышка открыта\""
      ]
    },
    {
      "cell_type": "markdown",
      "metadata": {
        "id": "HYAi2L6ISh62"
      },
      "source": [
        "\n",
        "\n",
        "16. Реализуйте класс `Bird` с методом `fly()`. От него наследуйте классы `Penguin` и `Eagle`, переопределив метод `fly()` для пингвина.\n",
        "\n"
      ]
    },
    {
      "cell_type": "code",
      "execution_count": 12,
      "metadata": {
        "id": "2xTzTxnXSh62"
      },
      "outputs": [],
      "source": [
        "class Bird:\n",
        "    def fly(self):\n",
        "        return \"Птица летит\"\n",
        "\n",
        "class Penguin(Bird):\n",
        "    def fly(self):\n",
        "        return \"Пингвины не летают\"\n",
        "\n",
        "class Eagle(Bird):\n",
        "    def fly(self):\n",
        "        return \"Орёл парит высоко\""
      ]
    },
    {
      "cell_type": "markdown",
      "metadata": {
        "id": "_FuYT9yNSh62"
      },
      "source": [
        "\n",
        "\n",
        "17. Создайте класс `BankCard` с атрибутами `number` и `balance`. От него наследуйте классы `CreditCard` и `DebitCard`, добавив специфичные методы.\n",
        "\n"
      ]
    },
    {
      "cell_type": "code",
      "execution_count": 13,
      "metadata": {
        "id": "wZAb8ciySh63"
      },
      "outputs": [],
      "source": [
        "class BankCard:\n",
        "    def __init__(self, number, balance):\n",
        "        self.number = number\n",
        "        self.balance = balance\n",
        "\n",
        "class CreditCard(BankCard):\n",
        "    def pay(self, amount):\n",
        "        return f\"Оплачено {amount} с кредитного лимита\"\n",
        "\n",
        "class DebitCard(BankCard):\n",
        "    def pay(self, amount):\n",
        "        if amount > self.balance:\n",
        "            return \"Недостаточно средств\"\n",
        "        self.balance -= amount\n",
        "        return f\"Оплачено {amount}. Остаток: {self.balance}\""
      ]
    },
    {
      "cell_type": "markdown",
      "metadata": {
        "id": "0bU_Xb-nSh63"
      },
      "source": [
        "\n",
        "\n",
        "18. Напишите класс `User` с атрибутами `login` и `password`. От него наследуйте классы `Admin` и `Guest`, расширив функциональность.\n",
        "\n"
      ]
    },
    {
      "cell_type": "code",
      "execution_count": 14,
      "metadata": {
        "id": "4hrz42W5Sh63"
      },
      "outputs": [],
      "source": [
        "class User:\n",
        "    def __init__(self, login, password):\n",
        "        self.login = login\n",
        "        self.password = password\n",
        "\n",
        "class Admin(User):\n",
        "    def manage_system(self):\n",
        "        return \"Управление системой\"\n",
        "\n",
        "class Guest(User):\n",
        "    def view_content(self):\n",
        "        return \"Просмотр контента\""
      ]
    },
    {
      "cell_type": "markdown",
      "metadata": {
        "id": "fLzPWBZoSh63"
      },
      "source": [
        "\n",
        "\n",
        "19. Создайте класс `GameCharacter` с атрибутами `health` и `damage`. От него наследуйте классы `Warrior` и `Mage`, добавив уникальные способности.\n",
        "\n"
      ]
    },
    {
      "cell_type": "code",
      "execution_count": 15,
      "metadata": {
        "id": "_QGygLVxSh6_"
      },
      "outputs": [],
      "source": [
        "class GameCharacter:\n",
        "    def __init__(self, health, damage):\n",
        "        self.health = health\n",
        "        self.damage = damage\n",
        "\n",
        "class Warrior(GameCharacter):\n",
        "    def charge(self):\n",
        "        return f\"Воин атакует с уроном {self.damage * 2}\"\n",
        "\n",
        "class Mage(GameCharacter):\n",
        "    def cast_spell(self):\n",
        "        return f\"Маг наносит {self.damage + 10} магического урона\""
      ]
    },
    {
      "cell_type": "markdown",
      "metadata": {
        "id": "pcPHqEZCSh6_"
      },
      "source": [
        "\n",
        "\n",
        "20. Реализуйте класс `Publication` с атрибутами `title` и `author`. От него наследуйте классы `Book` и `Magazine`, добавив специфичные атрибуты.\n",
        "\n"
      ]
    },
    {
      "cell_type": "code",
      "execution_count": 16,
      "metadata": {
        "id": "VbktReN3Sh6_"
      },
      "outputs": [],
      "source": [
        "class Publication:\n",
        "    def __init__(self, title, author):\n",
        "        self.title = title\n",
        "        self.author = author\n",
        "\n",
        "class Book(Publication):\n",
        "    def __init__(self, title, author, pages):\n",
        "        super().__init__(title, author)\n",
        "        self.pages = pages\n",
        "\n",
        "class Magazine(Publication):\n",
        "    def __init__(self, title, author, issue):\n",
        "        super().__init__(title, author)\n",
        "        self.issue = issue"
      ]
    },
    {
      "cell_type": "markdown",
      "metadata": {
        "id": "HOqu5UVRSh6_"
      },
      "source": [
        "\n",
        "\n",
        "### Задачи по теме **\"Инкапсуляция\"**\n",
        "\n"
      ]
    },
    {
      "cell_type": "markdown",
      "metadata": {
        "id": "oCJy2VFXSh6_"
      },
      "source": [
        "\n",
        "\n",
        "21. Создайте класс `SecretData` с приватным атрибутом `__secret`. Добавьте методы для установки и получения значения с проверкой доступа.\n",
        "\n"
      ]
    },
    {
      "cell_type": "code",
      "execution_count": 17,
      "metadata": {
        "id": "aHH0nmp_Sh6_"
      },
      "outputs": [],
      "source": [
        "class SecretData:\n",
        "    def __init__(self):\n",
        "        self.__secret = None\n",
        "\n",
        "    def set_secret(self, value, password):\n",
        "        if password == \"123\":\n",
        "            self.__secret = value\n",
        "        else:\n",
        "            print(\"Неверный пароль\")\n",
        "\n",
        "    def get_secret(self, password):\n",
        "        if password == \"123\":\n",
        "            return self.__secret\n",
        "        else:\n",
        "            return \"Доступ запрещён\"\n"
      ]
    },
    {
      "cell_type": "markdown",
      "metadata": {
        "id": "UOaesiKDSh6_"
      },
      "source": [
        "\n",
        "\n",
        "22. Реализуйте класс `BankAccount` с защищенным атрибутом `_balance`. Добавьте методы для управления балансом с проверкой операций.\n",
        "\n"
      ]
    },
    {
      "cell_type": "code",
      "execution_count": 18,
      "metadata": {
        "id": "Jn7bKMnFSh6_"
      },
      "outputs": [],
      "source": [
        "class BankAccount:\n",
        "    def __init__(self, balance=0):\n",
        "        self._balance = balance\n",
        "\n",
        "    def deposit(self, amount):\n",
        "        if amount > 0:\n",
        "            self._balance += amount\n",
        "        else:\n",
        "            print(\"Неверная сумма\")\n",
        "\n",
        "    def withdraw(self, amount):\n",
        "        if 0 < amount <= self._balance:\n",
        "            self._balance -= amount\n",
        "        else:\n",
        "            print(\"Недостаточно средств\")\n",
        "\n",
        "    def get_balance(self):\n",
        "        return self._balance"
      ]
    },
    {
      "cell_type": "markdown",
      "metadata": {
        "id": "WJ83nX7QSh7A"
      },
      "source": [
        "\n",
        "\n",
        "23. Создайте класс `SecureFile` с приватными методами `__read()` и `__write()`. Реализуйте публичные методы для безопасной работы с файлом.\n",
        "\n"
      ]
    },
    {
      "cell_type": "code",
      "execution_count": 19,
      "metadata": {
        "id": "9XIKTjfdSh7A"
      },
      "outputs": [],
      "source": [
        "class SecureFile:\n",
        "    def __init__(self, filename):\n",
        "        self.__filename = filename\n",
        "\n",
        "    def __read(self):\n",
        "        with open(self.__filename, 'r') as f:\n",
        "            return f.read()\n",
        "\n",
        "    def __write(self, content):\n",
        "        with open(self.__filename, 'w') as f:\n",
        "            f.write(content)\n",
        "\n",
        "    def safe_read(self, password):\n",
        "        if password == \"secret\":\n",
        "            return self.__read()\n",
        "        else:\n",
        "            return \"Доступ запрещён\"\n",
        "\n",
        "    def safe_write(self, content, password):\n",
        "        if password == \"secret\":\n",
        "            self.__write(content)\n",
        "        else:\n",
        "            print(\"Доступ запрещён\")"
      ]
    },
    {
      "cell_type": "markdown",
      "metadata": {
        "id": "xZNKXGsdSh7A"
      },
      "source": [
        "\n",
        "\n",
        "24. Напишите класс `Person` с защищенным атрибутом `_age`. Добавьте свойство `age` с валидацией при установке значения.\n",
        "\n"
      ]
    },
    {
      "cell_type": "code",
      "execution_count": 20,
      "metadata": {
        "id": "PpKsq2ErSh7A"
      },
      "outputs": [],
      "source": [
        "class Person:\n",
        "    def __init__(self, name):\n",
        "        self.name = name\n",
        "        self._age = 0\n",
        "\n",
        "    @property\n",
        "    def age(self):\n",
        "        return self._age\n",
        "\n",
        "    @age.setter\n",
        "    def age(self, value):\n",
        "        if 0 <= value <= 120:\n",
        "            self._age = value\n",
        "        else:\n",
        "            print(\"Недопустимый возраст\")"
      ]
    },
    {
      "cell_type": "markdown",
      "metadata": {
        "id": "tZCK83UwSh7A"
      },
      "source": [
        "\n",
        "\n",
        "25. Создайте класс `PasswordManager` с приватным атрибутом `__passwords`. Реализуйте методы для добавления и получения паролей с шифрованием.\n",
        "\n"
      ]
    },
    {
      "cell_type": "code",
      "execution_count": 21,
      "metadata": {
        "id": "qnaDnRA8Sh7A"
      },
      "outputs": [],
      "source": [
        "import hashlib\n",
        "\n",
        "class PasswordManager:\n",
        "    def __init__(self):\n",
        "        self.__passwords = {}\n",
        "\n",
        "    def add_password(self, service, password, master_key):\n",
        "        if master_key == \"admin\":\n",
        "            hashed = hashlib.sha256(password.encode()).hexdigest()\n",
        "            self.__passwords[service] = hashed\n",
        "        else:\n",
        "            print(\"Неверный мастер-ключ\")\n",
        "\n",
        "    def get_password(self, service, master_key):\n",
        "        if master_key == \"admin\":\n",
        "            return self.__passwords.get(service, \"Сервис не найден\")\n",
        "        else:\n",
        "            return \"Доступ запрещён\""
      ]
    },
    {
      "cell_type": "markdown",
      "metadata": {
        "id": "5FrS5vGlSh7A"
      },
      "source": [
        "\n",
        "\n",
        "### Задачи по теме **\"Полиморфизм\"**\n",
        "\n"
      ]
    },
    {
      "cell_type": "markdown",
      "metadata": {
        "id": "MqBaSyFsSh7A"
      },
      "source": [
        "\n",
        "\n",
        "26. Создайте классы `Dog` и `Cat` с методом `sound()`. Напишите функцию `make_sound()`, которая вызывает этот метод для любого животного.\n",
        "\n"
      ]
    },
    {
      "cell_type": "code",
      "execution_count": 22,
      "metadata": {
        "id": "b9WiGveeSh7B"
      },
      "outputs": [],
      "source": [
        "class Dog:\n",
        "    def sound(self):\n",
        "        return \"Гав!\"\n",
        "\n",
        "class Cat:\n",
        "    def sound(self):\n",
        "        return \"Мяу!\"\n",
        "\n",
        "def make_sound(animal):\n",
        "    print(animal.sound())"
      ]
    },
    {
      "cell_type": "markdown",
      "metadata": {
        "id": "lZRn8DmQSh7B"
      },
      "source": [
        "\n",
        "\n",
        "27. Реализуйте классы `Square` и `Circle` с методом `area()`. Напишите функцию `print_area()`, которая работает с любым объектом, имеющим этот метод.\n",
        "\n"
      ]
    },
    {
      "cell_type": "code",
      "execution_count": 23,
      "metadata": {
        "id": "gb_H-iFHSh7B"
      },
      "outputs": [],
      "source": [
        "class Square:\n",
        "    def __init__(self, side):\n",
        "        self.side = side\n",
        "\n",
        "    def area(self):\n",
        "        return self.side ** 2\n",
        "\n",
        "class Circle:\n",
        "    def __init__(self, radius):\n",
        "        self.radius = radius\n",
        "\n",
        "    def area(self):\n",
        "        return 3.14 * self.radius ** 2\n",
        "\n",
        "def print_area(shape):\n",
        "    print(f\"Площадь: {shape.area()}\")"
      ]
    },
    {
      "cell_type": "markdown",
      "metadata": {
        "id": "2uvfeEOaSh7B"
      },
      "source": [
        "\n",
        "\n",
        "28. Создайте классы `EmailNotifier` и `SMSNotifier` с методом `send()`. Реализуйте функцию `send_notification()`, принимающую любой нотификатор.\n",
        "\n"
      ]
    },
    {
      "cell_type": "code",
      "execution_count": 24,
      "metadata": {
        "id": "m11nrMAESh7B"
      },
      "outputs": [],
      "source": [
        "class EmailNotifier:\n",
        "    def send(self, message):\n",
        "        return f\"Отправка email: {message}\"\n",
        "\n",
        "class SMSNotifier:\n",
        "    def send(self, message):\n",
        "        return f\"Отправка SMS: {message}\"\n",
        "\n",
        "def send_notification(notifier, message):\n",
        "    print(notifier.send(message))"
      ]
    },
    {
      "cell_type": "markdown",
      "metadata": {
        "id": "CZAbGAwbSh7B"
      },
      "source": [
        "\n",
        "\n",
        "### Задачи по теме **\"Магические методы\"**\n",
        "\n"
      ]
    },
    {
      "cell_type": "markdown",
      "metadata": {
        "id": "RBFktBsxSh7B"
      },
      "source": [
        "\n",
        "\n",
        "29. Создайте класс `ComplexNumber` и перегрузите операторы `+`, `-`, `*` для работы с комплексными числами.\n",
        "\n"
      ]
    },
    {
      "cell_type": "code",
      "execution_count": 25,
      "metadata": {
        "id": "4ApnHFzESh7B"
      },
      "outputs": [],
      "source": [
        "class ComplexNumber:\n",
        "    def __init__(self, real, imag):\n",
        "        self.real = real\n",
        "        self.imag = imag\n",
        "\n",
        "    def __add__(self, other):\n",
        "        return ComplexNumber(self.real + other.real, self.imag + other.imag)\n",
        "\n",
        "    def __sub__(self, other):\n",
        "        return ComplexNumber(self.real - other.real, self.imag - other.imag)\n",
        "\n",
        "    def __mul__(self, other):\n",
        "        real = self.real * other.real - self.imag * other.imag\n",
        "        imag = self.real * other.imag + self.imag * other.real\n",
        "        return ComplexNumber(real, imag)\n",
        "\n",
        "    def __repr__(self):\n",
        "        return f\"{self.real} + {self.imag}i\"\n"
      ]
    },
    {
      "cell_type": "markdown",
      "metadata": {
        "id": "w8yJ8-_gSh7C"
      },
      "source": [
        "\n",
        "\n",
        "30. Реализуйте класс `Playlist` с магическими методами `__len__`, `__getitem__` и `__contains__` для работы с списком песен.\n",
        "\n"
      ]
    },
    {
      "cell_type": "code",
      "execution_count": 26,
      "metadata": {
        "id": "r39SYCfaSh7C"
      },
      "outputs": [],
      "source": [
        "\n",
        "class Playlist:\n",
        "    def __init__(self, songs):\n",
        "        self.songs = songs\n",
        "\n",
        "    def __len__(self):\n",
        "        return len(self.songs)\n",
        "\n",
        "    def __getitem__(self, index):\n",
        "        return self.songs[index]\n",
        "\n",
        "    def __contains__(self, song):\n",
        "        return song in self.songs"
      ]
    },
    {
      "cell_type": "markdown",
      "metadata": {
        "id": "3K6vjfjKSh7C"
      },
      "source": [
        "\n",
        "\n",
        "Каждая задача соответствует материалу из файлов и охватывает ключевые аспекты ООП в Python. Сложность увеличивается от базового создания классов до работы с магическими методами и сложными паттернами."
      ]
    }
  ],
  "metadata": {
    "colab": {
      "provenance": []
    },
    "kernelspec": {
      "display_name": "Python 3",
      "name": "python3"
    },
    "language_info": {
      "codemirror_mode": {
        "name": "ipython",
        "version": 3
      },
      "file_extension": ".py",
      "mimetype": "text/x-python",
      "name": "python",
      "nbconvert_exporter": "python",
      "pygments_lexer": "ipython3",
      "version": "3.11.9"
    }
  },
  "nbformat": 4,
  "nbformat_minor": 0
}
