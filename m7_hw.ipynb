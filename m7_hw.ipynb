{
  "cells": [
    {
      "cell_type": "markdown",
      "metadata": {
        "id": "FunE2x-RlNDA"
      },
      "source": [
        "### Задачи по теме **\"Байты и кодировки\"**\n",
        "\n"
      ]
    },
    {
      "cell_type": "markdown",
      "metadata": {
        "id": "BxtHwkYblNDB"
      },
      "source": [
        "\n",
        "\n",
        "1. **Преобразование символов в байты**  \n",
        "Напишите функцию, которая принимает строку и возвращает список числовых значений каждого символа с помощью `ord()`.  \n",
        "Примеры:  \n",
        "```python\n",
        "print(char_to_bytes(\"abc\"))  # [97, 98, 99]\n",
        "print(char_to_bytes(\"Привет\"))  # [1055, 1088, 1080, 1074, 1077, 1090]\n",
        "```\n",
        "\n"
      ]
    },
    {
      "cell_type": "code",
      "execution_count": 209,
      "metadata": {
        "id": "va79TsnylNDC"
      },
      "outputs": [],
      "source": [
        "def char_to_bytes(s):\n",
        "    return [ord(c) for c in s]"
      ]
    },
    {
      "cell_type": "markdown",
      "metadata": {
        "id": "vJWO_klnlNDC"
      },
      "source": [
        "\n",
        "\n",
        "2. **Восстановление строки из байтов**  \n",
        "Создайте функцию, которая принимает список числовых значений и возвращает строку с помощью `chr()`.  \n",
        "Примеры:  \n",
        "```python\n",
        "print(bytes_to_char([97, 98, 99]))  # \"abc\"\n",
        "print(bytes_to_char([1055, 1088, 1080, 1074, 1077, 1090]))  # \"Привет\"\n",
        "```\n",
        "\n"
      ]
    },
    {
      "cell_type": "code",
      "execution_count": 210,
      "metadata": {
        "id": "SzIz47ddlNDD"
      },
      "outputs": [],
      "source": [
        "def bytes_to_char(byte_list):\n",
        "    return ''.join([chr(b) for b in byte_list])"
      ]
    },
    {
      "cell_type": "markdown",
      "metadata": {
        "id": "3AhRoDeHlNDD"
      },
      "source": [
        "\n",
        "\n",
        "3. **Работа с шестнадцатеричным представлением**  \n",
        "Напишите функцию, которая преобразует символ в его шестнадцатеричное представление.  \n",
        "Примеры:  \n",
        "```python\n",
        "print(char_to_hex(\"A\"))  # \"0x41\"\n",
        "print(char_to_hex(\"Й\"))  # \"0x419\"\n",
        "```\n",
        "\n"
      ]
    },
    {
      "cell_type": "code",
      "execution_count": 211,
      "metadata": {
        "id": "mesi1mX4lNDD"
      },
      "outputs": [],
      "source": [
        "def char_to_hex(c):\n",
        "    return hex(ord(c))"
      ]
    },
    {
      "cell_type": "markdown",
      "metadata": {
        "id": "9o3531ydlNDD"
      },
      "source": [
        "\n",
        "\n",
        "4. **Декодирование байтовой строки**  \n",
        "Создайте функцию, которая принимает байтовую строку (например, `b'\\xd0\\x9f\\xd1\\x80\\xd0\\xb8\\xd0\\xb2\\xd0\\xb5\\xd1\\x82'`) и возвращает декодированную строку в UTF-8.  \n",
        "Примеры:  \n",
        "```python\n",
        "print(decode_bytes(b'\\xd0\\x9f\\xd1\\x80\\xd0\\xb8\\xd0\\xb2\\xd0\\xb5\\xd1\\x82'))  # \"Привет\"\n",
        "print(decode_bytes(b'hello'))  # \"hello\"\n",
        "```\n",
        "\n"
      ]
    },
    {
      "cell_type": "code",
      "execution_count": 212,
      "metadata": {
        "id": "I_GoCsLulNDD"
      },
      "outputs": [],
      "source": [
        "def decode_bytes(byte_str):\n",
        "    return byte_str.decode('utf-8')"
      ]
    },
    {
      "cell_type": "markdown",
      "metadata": {
        "id": "nCPk3jQvlNDE"
      },
      "source": [
        "\n",
        "\n",
        "5. **Проверка кодировки символов**  \n",
        "Напишите функцию, которая определяет, является ли символ ASCII (1 байт) или Unicode (2+ байта).  \n",
        "Примеры:  \n",
        "```python\n",
        "print(check_encoding(\"A\"))  # \"ASCII\"\n",
        "print(check_encoding(\"Й\"))  # \"Unicode\"\n",
        "```\n",
        "\n"
      ]
    },
    {
      "cell_type": "code",
      "execution_count": 213,
      "metadata": {
        "id": "7Gk5ktVDlNDE"
      },
      "outputs": [],
      "source": [
        "def check_encoding(c):\n",
        "    return \"ASCII\" if ord(c) < 128 else \"Unicode\""
      ]
    },
    {
      "cell_type": "markdown",
      "metadata": {
        "id": "ZVGbGfZrlNDE"
      },
      "source": [
        "\n",
        "\n",
        "### Задачи по теме **\"Работа с файлами\"**\n",
        "\n"
      ]
    },
    {
      "cell_type": "markdown",
      "metadata": {
        "id": "nogF5rvmlNDE"
      },
      "source": [
        "\n",
        "\n",
        "6. **Чтение файла построчно**  \n",
        "Напишите функцию, которая читает файл и возвращает список строк. Используйте контекстный менеджер `with`.  \n",
        "Примеры:  \n",
        "```python\n",
        "print(read_lines(\"example.txt\"))  # [\"Первая строка\", \"Вторая строка\"]\n",
        "```\n",
        "\n"
      ]
    },
    {
      "cell_type": "code",
      "execution_count": 198,
      "metadata": {
        "id": "hEhLjIX9lNDE"
      },
      "outputs": [],
      "source": [
        "def read_lines(filename):\n",
        "    with open(filename, 'r', encoding='utf-8') as f:\n",
        "        return [line.rstrip('\\n') for line in f]\n"
      ]
    },
    {
      "cell_type": "code",
      "execution_count": 199,
      "metadata": {
        "id": "2TUEEbUDyysf"
      },
      "outputs": [],
      "source": [
        "def read_lines(filename):\n",
        "    with open(filename, 'r', encoding='utf-8') as f:\n",
        "        return [line.rstrip('\\n') for line in f]"
      ]
    },
    {
      "cell_type": "markdown",
      "metadata": {
        "id": "PQWKKyb2lNDE"
      },
      "source": [
        "\n",
        "\n",
        "7. **Запись в файл с проверкой кодировки**  \n",
        "Создайте функцию, которая записывает текст в файл, автоматически определяя кодировку (UTF-8 или ASCII).  \n",
        "Примеры:  \n",
        "```python\n",
        "write_to_file(\"output.txt\", \"Hello, world!\")  # ASCII\n",
        "write_to_file(\"output.txt\", \"Привет, мир!\")   # UTF-8\n",
        "```\n",
        "\n"
      ]
    },
    {
      "cell_type": "code",
      "execution_count": 200,
      "metadata": {
        "id": "1E_DoefJlNDE"
      },
      "outputs": [],
      "source": [
        "def write_to_file(filename, text):\n",
        "    encoding = 'ascii' if all(ord(c) < 128 for c in text) else 'utf-8'\n",
        "    with open(filename, 'w', encoding=encoding) as f:\n",
        "        f.write(text)"
      ]
    },
    {
      "cell_type": "markdown",
      "metadata": {
        "id": "vQXlTR9BlNDF"
      },
      "source": [
        "\n",
        "\n",
        "8. **Подсчет слов в файле**  \n",
        "Напишите функцию, которая подсчитывает количество слов в файле.  \n",
        "Примеры:  \n",
        "```python\n",
        "print(count_words(\"example.txt\"))  # 25\n",
        "```\n",
        "\n"
      ]
    },
    {
      "cell_type": "code",
      "execution_count": 201,
      "metadata": {
        "id": "BXGT8vlqlNDF"
      },
      "outputs": [],
      "source": [
        "def count_words(filename):\n",
        "    with open(filename, 'r', encoding='utf-8') as f:\n",
        "        return len(f.read().split())"
      ]
    },
    {
      "cell_type": "markdown",
      "metadata": {
        "id": "Ei66H7YClNDF"
      },
      "source": [
        "\n",
        "\n",
        "9. **Поиск и замена текста в файле**  \n",
        "Создайте функцию, которая заменяет все вхождения подстроки в файле и сохраняет изменения.  \n",
        "Примеры:  \n",
        "```python\n",
        "replace_in_file(\"example.txt\", \"старое\", \"новое\")\n",
        "```\n",
        "\n"
      ]
    },
    {
      "cell_type": "code",
      "execution_count": 202,
      "metadata": {
        "id": "B4RUJBRxlNDF"
      },
      "outputs": [],
      "source": [
        "def replace_in_file(filename, old, new):\n",
        "    with open(filename, 'r+', encoding='utf-8') as f:\n",
        "        content = f.read()\n",
        "        f.seek(0)\n",
        "        f.write(content.replace(old, new))\n",
        "        f.truncate()\n"
      ]
    },
    {
      "cell_type": "markdown",
      "metadata": {
        "id": "kgYRDT5tlNDF"
      },
      "source": [
        "\n",
        "\n",
        "10. **Работа с бинарными файлами**  \n",
        "Напишите функцию, которая читает бинарный файл и возвращает его содержимое в виде байтовой строки.  \n",
        "Примеры:  \n",
        "```python\n",
        "print(read_binary(\"image.png\"))  # b'\\x89PNG\\r\\n\\x1a\\n...'\n",
        "```\n",
        "\n"
      ]
    },
    {
      "cell_type": "code",
      "execution_count": 203,
      "metadata": {
        "id": "qbknsOEhlNDF"
      },
      "outputs": [],
      "source": [
        "def read_binary(filename):\n",
        "    with open(filename, 'rb') as f:\n",
        "        return f.read()"
      ]
    },
    {
      "cell_type": "markdown",
      "metadata": {
        "id": "JPVE8q41lNDF"
      },
      "source": [
        "\n",
        "\n",
        "11. **Запись бинарных данных**  \n",
        "Создайте функцию, которая записывает байтовую строку в бинарный файл.  \n",
        "Примеры:  \n",
        "```python\n",
        "write_binary(\"output.bin\", b'\\x00\\x01\\x02\\x03')\n",
        "```\n",
        "\n"
      ]
    },
    {
      "cell_type": "code",
      "execution_count": 204,
      "metadata": {
        "id": "3d9nd3BClNDF"
      },
      "outputs": [],
      "source": [
        "def write_binary(filename, data):\n",
        "    with open(filename, 'wb') as f:\n",
        "        f.write(data)"
      ]
    },
    {
      "cell_type": "markdown",
      "metadata": {
        "id": "sYWoUJjllNDF"
      },
      "source": [
        "\n",
        "\n",
        "12. **Копирование файла**  \n",
        "Напишите функцию, которая копирует содержимое одного файла в другой.  \n",
        "Примеры:  \n",
        "```python\n",
        "copy_file(\"source.txt\", \"destination.txt\")\n",
        "```\n",
        "\n"
      ]
    },
    {
      "cell_type": "code",
      "execution_count": 205,
      "metadata": {
        "id": "RUyZpLRhlNDF"
      },
      "outputs": [],
      "source": [
        "def copy_file(src, dst):\n",
        "    with open(src, 'rb') as f_src, open(dst, 'wb') as f_dst:\n",
        "        f_dst.write(f_src.read())"
      ]
    },
    {
      "cell_type": "markdown",
      "metadata": {
        "id": "q44pKVJ5lNDG"
      },
      "source": [
        "\n",
        "\n",
        "13. **Объединение файлов**  \n",
        "Создайте функцию, которая объединяет содержимое нескольких файлов в один.  \n",
        "Примеры:  \n",
        "```python\n",
        "merge_files([\"file1.txt\", \"file2.txt\"], \"merged.txt\")\n",
        "```\n",
        "\n"
      ]
    },
    {
      "cell_type": "code",
      "execution_count": 206,
      "metadata": {
        "id": "DAApns0GlNDG"
      },
      "outputs": [],
      "source": [
        "def merge_files(file_list, output_file):\n",
        "    with open(output_file, 'w', encoding='utf-8') as out_f:\n",
        "        for filename in file_list:\n",
        "            with open(filename, 'r', encoding='utf-8') as in_f:\n",
        "                out_f.write(in_f.read())"
      ]
    },
    {
      "cell_type": "markdown",
      "metadata": {
        "id": "38SC3RJGlNDG"
      },
      "source": [
        "\n",
        "\n",
        "14. **Поиск строк по шаблону**  \n",
        "Напишите функцию, которая ищет строки в файле, соответствующие регулярному выражению.  \n",
        "Примеры:  \n",
        "```python\n",
        "print(find_pattern(\"example.txt\", r\"\\d+\"))  # [\"123\", \"45\"]\n",
        "```\n",
        "\n"
      ]
    },
    {
      "cell_type": "code",
      "execution_count": 207,
      "metadata": {
        "id": "heRG33VElNDG"
      },
      "outputs": [],
      "source": [
        "import re\n",
        "def find_pattern(filename, pattern):\n",
        "    with open(filename, 'r', encoding='utf-8') as f:\n",
        "        return re.findall(pattern, f.read())"
      ]
    },
    {
      "cell_type": "markdown",
      "metadata": {
        "id": "6CCdRsxdlNDG"
      },
      "source": [
        "\n",
        "\n",
        "15. **Удаление пустых строк**  \n",
        "Создайте функцию, которая удаляет пустые строки из файла.  \n",
        "Примеры:  \n",
        "```python\n",
        "remove_empty_lines(\"example.txt\")\n",
        "```\n",
        "\n"
      ]
    },
    {
      "cell_type": "code",
      "execution_count": 208,
      "metadata": {
        "id": "8wOJjcxJlNDG"
      },
      "outputs": [],
      "source": [
        "def remove_empty_lines(filename):\n",
        "    with open(filename, 'r+', encoding='utf-8') as f:\n",
        "        lines = [line for line in f if line.strip()]\n",
        "        f.seek(0)\n",
        "        f.writelines(lines)\n",
        "        f.truncate()"
      ]
    },
    {
      "cell_type": "markdown",
      "metadata": {
        "id": "ivoba0rYlNDG"
      },
      "source": [
        "\n",
        "\n",
        "### Задачи по теме **\"Маркеры и позиционирование в файлах\"**\n",
        "\n"
      ]
    },
    {
      "cell_type": "markdown",
      "metadata": {
        "id": "h58w3O-9lNDG"
      },
      "source": [
        "\n",
        "\n",
        "16. **Чтение файла с определенной позиции**  \n",
        "Напишите функцию, которая читает файл, начиная с указанной позиции.  \n",
        "Примеры:  \n",
        "```python\n",
        "print(read_from_position(\"example.txt\", 10))  # \"строка...\"\n",
        "```\n",
        "\n"
      ]
    },
    {
      "cell_type": "code",
      "execution_count": 178,
      "metadata": {
        "id": "dzBNHiyIlNDG"
      },
      "outputs": [],
      "source": [
        "def read_from_position(filename, position):\n",
        "    with open(filename, 'r', encoding='utf-8') as f:\n",
        "        f.seek(position)\n",
        "        return f.read()"
      ]
    },
    {
      "cell_type": "markdown",
      "metadata": {
        "id": "j3WJkPIblNDH"
      },
      "source": [
        "\n",
        "\n",
        "17. **Запись в определенную позицию**  \n",
        "Создайте функцию, которая записывает текст в файл, начиная с указанной позиции.  \n",
        "Примеры:  \n",
        "```python\n",
        "write_at_position(\"example.txt\", \"новый текст\", 10)\n",
        "```\n",
        "\n"
      ]
    },
    {
      "cell_type": "code",
      "execution_count": 179,
      "metadata": {
        "id": "Au_JFPrBlNDH"
      },
      "outputs": [],
      "source": [
        "def write_at_position(filename, text, position):\n",
        "    with open(filename, 'r+', encoding='utf-8') as f:\n",
        "        f.seek(position)\n",
        "        f.write(text)"
      ]
    },
    {
      "cell_type": "markdown",
      "metadata": {
        "id": "khyDRWjvlNDK"
      },
      "source": [
        "\n",
        "\n",
        "18. **Определение размера файла**  \n",
        "Напишите функцию, которая возвращает размер файла в байтах.  \n",
        "Примеры:  \n",
        "```python\n",
        "print(file_size(\"example.txt\"))  # 1024\n",
        "```\n",
        "\n"
      ]
    },
    {
      "cell_type": "code",
      "execution_count": 180,
      "metadata": {
        "id": "Sc-TfqmhlNDK"
      },
      "outputs": [],
      "source": [
        "import os\n",
        "def file_size(filename):\n",
        "    return os.path.getsize(filename)"
      ]
    },
    {
      "cell_type": "markdown",
      "metadata": {
        "id": "R4XhtOjmlNDL"
      },
      "source": [
        "\n",
        "\n",
        "19. **Проверка существования файла**  \n",
        "Создайте функцию, которая проверяет, существует ли файл.  \n",
        "Примеры:  \n",
        "```python\n",
        "print(file_exists(\"example.txt\"))  # True/False\n",
        "```\n",
        "\n"
      ]
    },
    {
      "cell_type": "code",
      "execution_count": 181,
      "metadata": {
        "id": "XRRt8xPNlNDL"
      },
      "outputs": [],
      "source": [
        "def file_exists(filename):\n",
        "    return os.path.exists(filename)"
      ]
    },
    {
      "cell_type": "markdown",
      "metadata": {
        "id": "XD6wwcs4lNDL"
      },
      "source": [
        "\n",
        "\n",
        "20. **Создание временного файла**  \n",
        "Напишите функцию, которая создает временный файл, записывает в него данные и возвращает его имя.  \n",
        "Примеры:  \n",
        "```python\n",
        "temp_file = create_temp_file(\"Временные данные\")\n",
        "print(temp_file)  # \"/tmp/tmp1234.txt\"\n",
        "```\n",
        "\n"
      ]
    },
    {
      "cell_type": "code",
      "execution_count": 182,
      "metadata": {
        "id": "gMQQYOpnlNDL"
      },
      "outputs": [],
      "source": [
        "import tempfile\n",
        "def create_temp_file(content):\n",
        "    with tempfile.NamedTemporaryFile(mode='w', delete=False, encoding='utf-8') as f:\n",
        "        f.write(content)\n",
        "        return f.name"
      ]
    },
    {
      "cell_type": "markdown",
      "metadata": {
        "id": "GqN2aeSPlNDL"
      },
      "source": [
        "\n",
        "\n",
        "### Задачи по теме **\"Режимы работы с файлами\"**\n",
        "\n"
      ]
    },
    {
      "cell_type": "markdown",
      "metadata": {
        "id": "bVVXu789lNDL"
      },
      "source": [
        "\n",
        "\n",
        "21. **Добавление текста в конец файла**  \n",
        "Создайте функцию, которая добавляет текст в конец файла, используя режим `'a'`.  \n",
        "Примеры:  \n",
        "```python\n",
        "append_to_file(\"example.txt\", \"Новая строка\")\n",
        "```\n",
        "\n"
      ]
    },
    {
      "cell_type": "code",
      "execution_count": 183,
      "metadata": {
        "id": "jydVAXTPlNDL"
      },
      "outputs": [],
      "source": [
        "def append_to_file(filename, text):\n",
        "    with open(filename, 'a', encoding='utf-8') as f:\n",
        "        f.write(text)"
      ]
    },
    {
      "cell_type": "markdown",
      "metadata": {
        "id": "zhkNgAYclNDL"
      },
      "source": [
        "\n",
        "\n",
        "22. **Перезапись файла**  \n",
        "Напишите функцию, которая полностью перезаписывает содержимое файла, используя режим `'w'`.  \n",
        "Примеры:  \n",
        "```python\n",
        "overwrite_file(\"example.txt\", \"Новое содержимое\")\n",
        "```\n",
        "\n"
      ]
    },
    {
      "cell_type": "code",
      "execution_count": 184,
      "metadata": {
        "id": "oE31UP3FlNDM"
      },
      "outputs": [],
      "source": [
        "def overwrite_file(filename, content):\n",
        "    with open(filename, 'w', encoding='utf-8') as f:\n",
        "        f.write(content)"
      ]
    },
    {
      "cell_type": "markdown",
      "metadata": {
        "id": "MKMoVp9dlNDM"
      },
      "source": [
        "\n",
        "\n",
        "23. **Чтение и запись одновременно**  \n",
        "Создайте функцию, которая читает и дописывает файл, используя режим `'r+'`.  \n",
        "Примеры:  \n",
        "```python\n",
        "read_and_append(\"example.txt\", \"Дополнительный текст\")\n",
        "```\n",
        "\n"
      ]
    },
    {
      "cell_type": "code",
      "execution_count": 185,
      "metadata": {
        "id": "7ZMBV_XJlNDM"
      },
      "outputs": [],
      "source": [
        "def read_and_append(filename, text):\n",
        "    with open(filename, 'r+', encoding='utf-8') as f:\n",
        "        content = f.read()\n",
        "        f.seek(0, 2)\n",
        "        f.write(text)"
      ]
    },
    {
      "cell_type": "markdown",
      "metadata": {
        "id": "eyuZ1a89lNDM"
      },
      "source": [
        "\n",
        "\n",
        "24. **Создание нового файла**  \n",
        "Напишите функцию, которая создает новый файл, используя режим `'x'`. Если файл существует, функция должна возвращать ошибку.  \n",
        "Примеры:  \n",
        "```python\n",
        "create_new_file(\"newfile.txt\", \"Содержимое\")\n",
        "```\n",
        "\n"
      ]
    },
    {
      "cell_type": "code",
      "execution_count": 186,
      "metadata": {
        "id": "ybRIrLJ3lNDM"
      },
      "outputs": [],
      "source": [
        "def create_new_file(filename, content):\n",
        "    try:\n",
        "        with open(filename, 'x', encoding='utf-8') as f:\n",
        "            f.write(content)\n",
        "    except FileExistsError:\n",
        "        return \"Файл уже существует\"\n",
        "    return \"Файл создан\""
      ]
    },
    {
      "cell_type": "markdown",
      "metadata": {
        "id": "kGAJB4kulNDM"
      },
      "source": [
        "\n",
        "\n",
        "25. **Работа с файлом в бинарном режиме**  \n",
        "Создайте функцию, которая читает и записывает файл в бинарном режиме.  \n",
        "Примеры:  \n",
        "```python\n",
        "binary_operations(\"data.bin\", b'\\x00\\x01\\x02')\n",
        "```\n",
        "\n"
      ]
    },
    {
      "cell_type": "code",
      "execution_count": 187,
      "metadata": {
        "id": "-QOBvO1vlNDM"
      },
      "outputs": [],
      "source": [
        "def binary_operations(filename, data):\n",
        "    with open(filename, 'wb+') as f:\n",
        "        f.write(data)\n",
        "        f.seek(0)\n",
        "        return f.read()"
      ]
    },
    {
      "cell_type": "markdown",
      "metadata": {
        "id": "3-Hl5Z0blNDM"
      },
      "source": [
        "\n",
        "\n",
        "### Задачи по теме **\"Методы файловых объектов\"**\n",
        "\n"
      ]
    },
    {
      "cell_type": "markdown",
      "metadata": {
        "id": "EROCwJrWlNDN"
      },
      "source": [
        "\n",
        "\n",
        "26. **Построчное чтение файла**  \n",
        "Напишите функцию, которая читает файл построчно и возвращает список строк.  \n",
        "Примеры:  \n",
        "```python\n",
        "print(read_lines(\"example.txt\"))  # [\"Строка 1\", \"Строка 2\"]\n",
        "```\n",
        "\n"
      ]
    },
    {
      "cell_type": "code",
      "execution_count": 188,
      "metadata": {
        "id": "84T6F0aklNDN"
      },
      "outputs": [],
      "source": [
        "def read_lines(filename):\n",
        "    with open(filename, 'r', encoding='utf-8') as f:\n",
        "        return f.readlines()"
      ]
    },
    {
      "cell_type": "markdown",
      "metadata": {
        "id": "9xSATNU7lNDN"
      },
      "source": [
        "\n",
        "\n",
        "27. **Запись списка строк в файл**  \n",
        "Создайте функцию, которая записывает список строк в файл.  \n",
        "Примеры:  \n",
        "```python\n",
        "write_lines(\"output.txt\", [\"Строка 1\", \"Строка 2\"])\n",
        "```\n",
        "\n"
      ]
    },
    {
      "cell_type": "code",
      "execution_count": 189,
      "metadata": {
        "id": "q72z5UfnlNDN"
      },
      "outputs": [],
      "source": [
        "def write_lines(filename, lines):\n",
        "    with open(filename, 'w', encoding='utf-8') as f:\n",
        "        f.writelines(lines)"
      ]
    },
    {
      "cell_type": "markdown",
      "metadata": {
        "id": "FF-eSR6olNDN"
      },
      "source": [
        "\n",
        "\n",
        "28. **Проверка доступности файла**  \n",
        "Напишите функцию, которая проверяет, доступен ли файл для чтения или записи.  \n",
        "Примеры:  \n",
        "```python\n",
        "print(check_file_access(\"example.txt\", 'r'))  # True/False\n",
        "```\n",
        "\n"
      ]
    },
    {
      "cell_type": "code",
      "execution_count": 190,
      "metadata": {
        "id": "06G6QdL-lNDN"
      },
      "outputs": [],
      "source": [
        "import os\n",
        "def check_file_access(filename, mode):\n",
        "    try:\n",
        "        with open(filename, mode):\n",
        "            return True\n",
        "    except IOError:\n",
        "        return False"
      ]
    },
    {
      "cell_type": "markdown",
      "metadata": {
        "id": "9dEMqcCmlNDN"
      },
      "source": [
        "\n",
        "\n",
        "29. **Буферизация файла**  \n",
        "Создайте функцию, которая демонстрирует работу буферизации при чтении файла.  \n",
        "Примеры:  \n",
        "```python\n",
        "buffer_demo(\"example.txt\")\n",
        "```\n",
        "\n"
      ]
    },
    {
      "cell_type": "code",
      "execution_count": 191,
      "metadata": {
        "id": "9k243bXglNDN"
      },
      "outputs": [],
      "source": [
        "def buffer_demo(filename):\n",
        "    with open(filename, 'r', buffering=1) as f:\n",
        "        print(f.read(10))"
      ]
    },
    {
      "cell_type": "markdown",
      "metadata": {
        "id": "80CqZwwRlNDO"
      },
      "source": [
        "\n",
        "\n",
        "30. **Обработка ошибок при работе с файлами**  \n",
        "Напишите функцию, которая обрабатывает исключения при работе с файлами (например, `FileNotFoundError`).  \n",
        "Примеры:  \n",
        "```python\n",
        "safe_file_operation(\"nonexistent.txt\")\n",
        "```\n",
        "\n"
      ]
    },
    {
      "cell_type": "code",
      "execution_count": 192,
      "metadata": {
        "id": "h3uD_OnqlNDO"
      },
      "outputs": [],
      "source": [
        "def safe_file_operation(filename):\n",
        "    try:\n",
        "        with open(filename, 'r') as f:\n",
        "            return f.read()\n",
        "    except FileNotFoundError:\n",
        "        return \"Файл не найден\"\n",
        "    except PermissionError:\n",
        "        return \"Нет прав доступа\"\n",
        "    except Exception as e:\n",
        "        return f\"Ошибка: {str(e)}\""
      ]
    },
    {
      "cell_type": "markdown",
      "metadata": {
        "id": "z8eJ859rlNDO"
      },
      "source": [
        "\n",
        "\n",
        "Каждая задача сопровождается примерами использования и охватывает ключевые аспекты работы с байтами, кодировками и файлами в Python. Сложность задач равномерно распределена от среднего до высокого уровня."
      ]
    }
  ],
  "metadata": {
    "colab": {
      "provenance": []
    },
    "kernelspec": {
      "display_name": "Python 3",
      "name": "python3"
    },
    "language_info": {
      "codemirror_mode": {
        "name": "ipython",
        "version": 3
      },
      "file_extension": ".py",
      "mimetype": "text/x-python",
      "name": "python",
      "nbconvert_exporter": "python",
      "pygments_lexer": "ipython3",
      "version": "3.11.9"
    }
  },
  "nbformat": 4,
  "nbformat_minor": 0
}
