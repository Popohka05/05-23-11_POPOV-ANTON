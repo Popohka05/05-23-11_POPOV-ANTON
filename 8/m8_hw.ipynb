{
  "cells": [
    {
      "cell_type": "markdown",
      "metadata": {
        "id": "saPunkVS0gYM"
      },
      "source": [
        "### Задачи по теме **\"Базовые исключения и обработка ошибок\"**\n",
        "\n"
      ]
    },
    {
      "cell_type": "markdown",
      "metadata": {
        "id": "eKOw5Wp50gYN"
      },
      "source": [
        "\n",
        "\n",
        "1. **Деление с обработкой ZeroDivisionError**  \n",
        "Напишите функцию `safe_divide()`, которая принимает два числа и возвращает результат деления. Обработайте исключение деления на ноль, возвращая в этом случае `None`.  \n",
        "Пример:  \n",
        "```python\n",
        "print(safe_divide(10, 2))  # 5.0\n",
        "print(safe_divide(10, 0))  # None\n",
        "```\n",
        "\n"
      ]
    },
    {
      "cell_type": "code",
      "execution_count": 8,
      "metadata": {
        "id": "vY_ZCRUY0gYN"
      },
      "outputs": [
        {
          "name": "stdout",
          "output_type": "stream",
          "text": [
            "None\n"
          ]
        }
      ],
      "source": [
        "def safe_divide(a, b):\n",
        "    try:\n",
        "        return a / b\n",
        "    except ZeroDivisionError:\n",
        "        return None\n",
        "print(safe_divide(10, 0)) \n"
      ]
    },
    {
      "cell_type": "markdown",
      "metadata": {
        "id": "6vpmTrQN0gYO"
      },
      "source": [
        "\n",
        "\n",
        "2. **Преобразование строки в число**  \n",
        "Создайте функцию `convert_to_int()`, которая принимает строку и преобразует её в целое число. Обработайте `ValueError`, возвращая `\"Ошибка преобразования\"`.  \n",
        "Пример:  \n",
        "```python\n",
        "print(convert_to_int(\"123\"))  # 123\n",
        "print(convert_to_int(\"abc\"))  # \"Ошибка преобразования\"\n",
        "```\n",
        "\n"
      ]
    },
    {
      "cell_type": "code",
      "execution_count": 9,
      "metadata": {
        "id": "XMh85gg90gYO"
      },
      "outputs": [
        {
          "name": "stdout",
          "output_type": "stream",
          "text": [
            "Ошибка преобразования\n"
          ]
        }
      ],
      "source": [
        "def convert_to_int(s):\n",
        "    try:\n",
        "        return int(s)\n",
        "    except ValueError:\n",
        "        return \"Ошибка преобразования\"\n",
        "print(convert_to_int(\"abc\"))  # \"Ошибка преобразования\""
      ]
    },
    {
      "cell_type": "markdown",
      "metadata": {
        "id": "5o23zq090gYO"
      },
      "source": [
        "\n",
        "\n",
        "3. **Обработка TypeError**  \n",
        "Напишите функцию `add_numbers()`, которая складывает два числа. Если переданы нечисловые аргументы, обработайте `TypeError` и верните `\"Аргументы должны быть числами\"`.  \n",
        "Пример:  \n",
        "```python\n",
        "print(add_numbers(2, 3))    # 5\n",
        "print(add_numbers(2, \"a\"))  # \"Аргументы должны быть числами\"\n",
        "```\n",
        "\n"
      ]
    },
    {
      "cell_type": "code",
      "execution_count": null,
      "metadata": {
        "id": "vAamc5zJ0gYO"
      },
      "outputs": [
        {
          "name": "stdout",
          "output_type": "stream",
          "text": [
            "Аргументы должны быть числами\n"
          ]
        }
      ],
      "source": [
        "def add_numbers(a, b):\n",
        "    try:\n",
        "        return a + b\n",
        "    except TypeError:\n",
        "        return \"Аргументы должны быть числами\"\n",
        "print(add_numbers(2, \"a\")) "
      ]
    },
    {
      "cell_type": "markdown",
      "metadata": {
        "id": "vA7n0lra0gYO"
      },
      "source": [
        "\n",
        "\n",
        "### Задачи по теме **\"Множественная обработка исключений\"**\n",
        "\n"
      ]
    },
    {
      "cell_type": "markdown",
      "metadata": {
        "id": "lQ_0sPVN0gYP"
      },
      "source": [
        "\n",
        "\n",
        "4. **Комплексная проверка ввода**  \n",
        "Создайте функцию `get_user_input()`, которая запрашивает у пользователя число. Обработайте `ValueError` (нечисловой ввод) и `KeyboardInterrupt` (прерывание ввода).  \n",
        "Пример:  \n",
        "```python\n",
        "Введите число: abc\n",
        "Ошибка: Введите число!\n",
        "Введите число: (нажато Ctrl+C)\n",
        "Программа прервана.\n",
        "```\n",
        "\n"
      ]
    },
    {
      "cell_type": "code",
      "execution_count": 25,
      "metadata": {
        "id": "ttZHdzCi0gYP"
      },
      "outputs": [
        {
          "name": "stdout",
          "output_type": "stream",
          "text": [
            "Ошибка: Введите число!\n",
            "Ошибка: Введите число!\n",
            "Вы ввели: 12\n"
          ]
        }
      ],
      "source": [
        "def get_user_input():\n",
        "    while True:\n",
        "        try:\n",
        "            user_input = input(\"Введите число: \")\n",
        "            \n",
        "            try:\n",
        "                return int(user_input)\n",
        "            except ValueError:\n",
        "             \n",
        "                try:\n",
        "                    return float(user_input)\n",
        "                except ValueError:\n",
        "                    raise ValueError(\"Ошибка: Введите число!\")\n",
        "                    \n",
        "        except ValueError as ve:\n",
        "            print(ve)\n",
        "        except KeyboardInterrupt:\n",
        "            print(\"\\nПрограмма прервана.\")\n",
        "            return None\n",
        "number = get_user_input()\n",
        "if number is not None:\n",
        "    print(f\"Вы ввели: {number}\")\n",
        "else:\n",
        "    print(\"Ввод отменен\")"
      ]
    },
    {
      "cell_type": "markdown",
      "metadata": {
        "id": "nEOzr5DF0gYP"
      },
      "source": [
        "\n",
        "\n",
        "5. **Работа с файлами и исключениями**  \n",
        "Напишите функцию `read_file()`, которая читает файл и возвращает его содержимое. Обработайте `FileNotFoundError` и `PermissionError`.  \n",
        "Пример:  \n",
        "```python\n",
        "print(read_file(\"nonexistent.txt\"))  # \"Файл не найден\"\n",
        "```\n",
        "\n"
      ]
    },
    {
      "cell_type": "code",
      "execution_count": null,
      "metadata": {
        "id": "wdY-m5cU0gYP"
      },
      "outputs": [
        {
          "name": "stdout",
          "output_type": "stream",
          "text": [
            "Файл не найден\n"
          ]
        }
      ],
      "source": [
        "def read_file(filename):\n",
        "    try:\n",
        "        with open(filename, 'r') as f:\n",
        "            return f.read()\n",
        "    except FileNotFoundError:\n",
        "        return \"Файл не найден\"\n",
        "    except PermissionError:\n",
        "        return \"Нет прав доступа\"\n",
        "print(read_file(\"nonexistent.txt\"))  "
      ]
    },
    {
      "cell_type": "markdown",
      "metadata": {
        "id": "NoRUTtPS0gYQ"
      },
      "source": [
        "\n",
        "\n",
        "6. **Обработка арифметических ошибок**  \n",
        "Создайте функцию `calculate()`, которая выполняет деление и обрабатывает `ZeroDivisionError` и `OverflowError`.  \n",
        "Пример:  \n",
        "```python\n",
        "print(calculate(10, 0))    # \"Деление на ноль\"\n",
        "print(calculate(1e100, 1)) # \"Переполнение\"\n",
        "```\n",
        "\n"
      ]
    },
    {
      "cell_type": "code",
      "execution_count": null,
      "metadata": {
        "id": "47DK69_f0gYQ"
      },
      "outputs": [
        {
          "name": "stdout",
          "output_type": "stream",
          "text": [
            "Деление на ноль\n",
            "1e+100\n"
          ]
        }
      ],
      "source": [
        "def calculate(a, b):\n",
        "    try:\n",
        "        return a / b\n",
        "    except ZeroDivisionError:\n",
        "        return \"Деление на ноль\"\n",
        "    except OverflowError:\n",
        "        return \"Переполнение\"\n",
        "print(calculate(10, 0))   \n",
        "print(calculate(1e100, 1)) "
      ]
    },
    {
      "cell_type": "markdown",
      "metadata": {
        "id": "AZGJTZBE0gYR"
      },
      "source": [
        "\n",
        "\n",
        "### Задачи по теме **\"Использование finally и else\"**\n",
        "\n"
      ]
    },
    {
      "cell_type": "markdown",
      "metadata": {
        "id": "T-hBlIMb0gYR"
      },
      "source": [
        "\n",
        "\n",
        "7. **Закрытие ресурсов**  \n",
        "Напишите функцию `open_file()`, которая открывает файл, читает первую строку и закрывает его, используя `finally`.  \n",
        "Пример:  \n",
        "```python\n",
        "print(open_file(\"example.txt\"))  # \"Первая строка файла\"\n",
        "```\n",
        "\n"
      ]
    },
    {
      "cell_type": "code",
      "execution_count": 13,
      "metadata": {
        "id": "Idd2UNug0gYR"
      },
      "outputs": [
        {
          "name": "stdout",
          "output_type": "stream",
          "text": [
            "Р»РµРєСЃСѓСЃ\n"
          ]
        }
      ],
      "source": [
        "def open_file(filename):\n",
        "    f = None\n",
        "    try:\n",
        "        f = open(filename, 'r')\n",
        "        return f.readline().strip()\n",
        "    finally:\n",
        "        if f is not None:\n",
        "            f.close()\n",
        "print(open_file(\"example.txt\"))  # \"Первая строка файла\""
      ]
    },
    {
      "cell_type": "markdown",
      "metadata": {
        "id": "A6suNWUf0gYS"
      },
      "source": [
        "\n",
        "\n",
        "8. **Успешное выполнение блока try**  \n",
        "Создайте функцию `check_even()`, которая проверяет, является ли число чётным. Используйте `else` для вывода сообщения об успехе.  \n",
        "Пример:  \n",
        "```python\n",
        "check_even(4)  # \"Число 4 чётное\"\n",
        "check_even(3)  # Ничего не выводится\n",
        "```\n",
        "\n"
      ]
    },
    {
      "cell_type": "code",
      "execution_count": null,
      "metadata": {
        "id": "iYQa9LCw0gYS"
      },
      "outputs": [
        {
          "name": "stdout",
          "output_type": "stream",
          "text": [
            "Число 4 чётное\n"
          ]
        }
      ],
      "source": [
        "def check_even(num):\n",
        "    try:\n",
        "        if num % 2 != 0:\n",
        "            return\n",
        "    except TypeError:\n",
        "        pass\n",
        "    else:\n",
        "        print(f\"Число {num} чётное\")\n",
        "check_even(4)  \n",
        "check_even(3)  "
      ]
    },
    {
      "cell_type": "markdown",
      "metadata": {
        "id": "_5WQC_4x0gYS"
      },
      "source": [
        "\n",
        "\n",
        "### Задачи по теме **\"Пользовательские исключения\"**\n",
        "\n"
      ]
    },
    {
      "cell_type": "markdown",
      "metadata": {
        "id": "D1Apoxew0gYS"
      },
      "source": [
        "\n",
        "\n",
        "9. **Проверка возраста**  \n",
        "Создайте исключение `NegativeAgeError` и функцию `validate_age()`, которая проверяет, что возраст не отрицательный.  \n",
        "Пример:  \n",
        "```python\n",
        "validate_age(-5)  # Ошибка: Возраст не может быть отрицательным\n",
        "validate_age(25)  # Успех\n",
        "```\n",
        "\n"
      ]
    },
    {
      "cell_type": "code",
      "execution_count": 19,
      "metadata": {
        "id": "mt1JH6lL0gYS"
      },
      "outputs": [
        {
          "name": "stdout",
          "output_type": "stream",
          "text": [
            "Успех: Возраст корректен\n",
            "Ошибка: Возраст не может быть отрицательным (получено: -5)\n"
          ]
        }
      ],
      "source": [
        "class NegativeAgeError(Exception):\n",
        "    def __init__(self, age):\n",
        "        self.age = age\n",
        "        super().__init__(f\"Ошибка: Возраст не может быть отрицательным (получено: {age})\")\n",
        "def validate_age(age):\n",
        "    \"\"\"\n",
        "    Проверяет, что возраст не отрицательный\n",
        "    \n",
        "    Аргументы:\n",
        "        age (int): возраст для проверки\n",
        "    \n",
        "    Возвращает:\n",
        "        bool: True если возраст корректен\n",
        "    \n",
        "    Выбрасывает:\n",
        "        NegativeAgeError: если возраст отрицательный\n",
        "    \"\"\"\n",
        "    if age < 0:\n",
        "        raise NegativeAgeError(age)\n",
        "    return True\n",
        "try:\n",
        "    validate_age(25)  \n",
        "    print(\"Успех: Возраст корректен\")\n",
        "except NegativeAgeError as e:\n",
        "    print(e)\n",
        "\n",
        "try:\n",
        "    validate_age(-5)  \n",
        "except NegativeAgeError as e:\n",
        "    print(e) "
      ]
    },
    {
      "cell_type": "markdown",
      "metadata": {
        "id": "1ua2IbfY0gYT"
      },
      "source": [
        "\n",
        "\n",
        "10. **Проверка пароля**  \n",
        "Напишите исключение `WeakPasswordError` и функцию `check_password()`, которая проверяет длину пароля (минимум 8 символов).  \n",
        "Пример:  \n",
        "```python\n",
        "check_password(\"123\")  # Ошибка: Пароль слишком короткий\n",
        "check_password(\"secure123\")  # Успех\n",
        "```\n"
      ]
    },
    {
      "cell_type": "code",
      "execution_count": 21,
      "metadata": {
        "id": "fWrRdQeH0gYT"
      },
      "outputs": [
        {
          "name": "stdout",
          "output_type": "stream",
          "text": [
            "✓ Пароль корректен\n",
            "Ошибка: Пароль слишком короткий (длина: 3, требуется минимум 8 символов)\n"
          ]
        }
      ],
      "source": [
        "class WeakPasswordError(Exception):\n",
        "    \"\"\"Исключение для слабого пароля\"\"\"\n",
        "    def __init__(self, length):\n",
        "        self.length = length\n",
        "        super().__init__(f\"Ошибка: Пароль слишком короткий (длина: {length}, требуется минимум 8 символов)\")\n",
        "\n",
        "def check_password(password):\n",
        "    if not isinstance(password, str):\n",
        "        raise TypeError(\"Пароль должен быть строкой\")\n",
        "    \n",
        "    if len(password) < 8:\n",
        "        raise WeakPasswordError(len(password))\n",
        "    \n",
        "    return True\n",
        "try:\n",
        "    check_password(\"secure123\")  \n",
        "    print(\"✓ Пароль корректен\")\n",
        "except WeakPasswordError as e:\n",
        "    print(e)\n",
        "except TypeError as e:\n",
        "    print(e)\n",
        "\n",
        "try:\n",
        "    check_password(\"123\") \n",
        "except WeakPasswordError as e:\n",
        "    print(e)  "
      ]
    }
  ],
  "metadata": {
    "colab": {
      "provenance": []
    },
    "kernelspec": {
      "display_name": "Python 3",
      "name": "python3"
    },
    "language_info": {
      "codemirror_mode": {
        "name": "ipython",
        "version": 3
      },
      "file_extension": ".py",
      "mimetype": "text/x-python",
      "name": "python",
      "nbconvert_exporter": "python",
      "pygments_lexer": "ipython3",
      "version": "3.11.9"
    }
  },
  "nbformat": 4,
  "nbformat_minor": 0
}
